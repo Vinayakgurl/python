{
 "cells": [
  {
   "attachments": {},
   "cell_type": "markdown",
   "metadata": {},
   "source": [
    "1 printing even number from csv file "
   ]
  },
  {
   "cell_type": "code",
   "execution_count": 6,
   "metadata": {},
   "outputs": [
    {
     "name": "stdout",
     "output_type": "stream",
     "text": [
      "original liast [2, 4, 5, 6, 3, 5, 8, 5]\n",
      "even number in a list :  [5, 3, 5, 5]\n"
     ]
    }
   ],
   "source": [
    "import csv\n",
    "# opening csv file \n",
    "with open(\"C:/Users/User/Desktop/python exam/1.csv\",'r') as file:\n",
    "\n",
    "    li=[]\n",
    "    \n",
    "    file_o = csv.reader(file)#it will read the csv file \n",
    "    for i in file_o:#exctract each each  element from csv file  \n",
    "    \n",
    "        for y in i:#i is in the form list having single digit\n",
    "            \n",
    "            li.append(int(y))#appending the element to empty list li\n",
    "    \n",
    "print(\"original liast\",li)\n",
    "list=[x for x in li if x%2!=0 ]#findouting even number from li\n",
    "print(\"even number in a list : \",list)\n",
    "\n",
    "\n",
    "        \n",
    "    \n",
    "    \n",
    "         \n",
    "        \n"
   ]
  },
  {
   "attachments": {},
   "cell_type": "markdown",
   "metadata": {},
   "source": [
    "2 printing anual salary of employee"
   ]
  },
  {
   "cell_type": "code",
   "execution_count": 8,
   "metadata": {},
   "outputs": [
    {
     "name": "stdout",
     "output_type": "stream",
     "text": [
      "Vinayak anual salary is =  420000\n"
     ]
    }
   ],
   "source": [
    "class Employee:\n",
    "    name=\"vinayak\"\n",
    "    position= \"manager\"\n",
    "    salary=35000\n",
    "    def anual_salary(self):\n",
    "        anual_income=self.salary*12\n",
    "        print(\"Vinayak anual salary is = \",anual_income)\n",
    "\n",
    "obj=Employee()\n",
    "obj.anual_salary()"
   ]
  },
  {
   "attachments": {},
   "cell_type": "markdown",
   "metadata": {},
   "source": [
    "3 handling the eror like file not found error"
   ]
  },
  {
   "cell_type": "code",
   "execution_count": 6,
   "metadata": {},
   "outputs": [
    {
     "name": "stdout",
     "output_type": "stream",
     "text": [
      "there is no error\n"
     ]
    }
   ],
   "source": [
    "import csv\n",
    "try :\n",
    "    with open(\"\",\"r\") as file:#opening the file but path is not given because to raise the error\n",
    "        file_object=file.read()\n",
    "        for i in file_object:\n",
    "            print(i)\n",
    "except :\n",
    "    print(\"there is no error\")\n",
    "\n"
   ]
  },
  {
   "attachments": {},
   "cell_type": "markdown",
   "metadata": {},
   "source": [
    "5 importing the content present in csv file"
   ]
  },
  {
   "cell_type": "code",
   "execution_count": 5,
   "metadata": {},
   "outputs": [
    {
     "name": "stdout",
     "output_type": "stream",
     "text": [
      "['hi', ' i', ' am', ' vinayak', ' kashappa', ' gurlhosur', ' ']\n",
      "['25', '55', '565', '25', '25', '56', '']\n",
      "['rewfds', 'rere', 'rf', 'ref', 'ref', 'eew', '']\n"
     ]
    }
   ],
   "source": [
    "import csv \n",
    "with open(\"C:/Users/User/Desktop/python exam/5.csv\",\"r\") as file:\n",
    "    file_object=csv.reader(file)\n",
    "    for i in file_object:\n",
    "        print(i)\n",
    "\n",
    "    "
   ]
  }
 ],
 "metadata": {
  "kernelspec": {
   "display_name": "Python 3",
   "language": "python",
   "name": "python3"
  },
  "language_info": {
   "codemirror_mode": {
    "name": "ipython",
    "version": 3
   },
   "file_extension": ".py",
   "mimetype": "text/x-python",
   "name": "python",
   "nbconvert_exporter": "python",
   "pygments_lexer": "ipython3",
   "version": "3.11.2"
  },
  "orig_nbformat": 4
 },
 "nbformat": 4,
 "nbformat_minor": 2
}
