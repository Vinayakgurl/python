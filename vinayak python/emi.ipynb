{
 "cells": [
  {
   "cell_type": "code",
   "execution_count": null,
   "metadata": {},
   "outputs": [
    {
     "ename": "",
     "evalue": "",
     "output_type": "error",
     "traceback": [
      "\u001b[1;31mJupyter cannot be started. Error attempting to locate Jupyter: Running cells with 'c:\\Users\\User\\AppData\\Local\\Programs\\Python\\Python311\\python.exe' requires the jupyter and notebook package.\n",
      "\u001b[1;31mRun the following command to install 'jupyter and notebook' into the Python environment. \n",
      "\u001b[1;31mCommand: 'python -m pip install jupyter notebook -U\n",
      "\u001b[1;31mor\n",
      "\u001b[1;31mconda install jupyter notebook -U'\n",
      "\u001b[1;31mClick <a href='https://aka.ms/installJupyterForVSCode'>here</a> for more info."
     ]
    }
   ],
   "source": [
    "def emi():\n",
    "    mobile = input(\"enter which mobile you want\")\n",
    "\n",
    "    match  mobile :\n",
    "\n",
    "        case \"samsung\" : \n",
    "                \n",
    "             print(\"samsung mobile rate is 20000\")\n",
    "             calculate(20000)\n",
    "             \n",
    "        case \"vivo\" :\n",
    "             print(\"vivo mobile rate is 15000\")\n",
    "             calculate(15000)\n",
    "        case \"redmy\" : \n",
    "    \n",
    "            print(\"redmy mobile rate is 10000\")\n",
    "            calculate(10000)\n",
    "\n",
    "\n",
    "\n",
    "def calculate(principal_amount):\n",
    "\n",
    "    rate_of_interest = float(e2.get())/12/100\n",
    "    tenure_in_month = float(input(\"enter the tenure in month\"))\n",
    "    EMI =( principal_amount*rate_of_interest*pow(1+rate_of_interest,tenure_in_month ))/(pow(1+rate_of_interest,tenure_in_month)-1)\n",
    "    print(EMI)\n",
    "\n",
    "\n",
    "            \n",
    "emi()\n",
    "\n",
    "\n",
    "from tkinter import *  \n",
    "top = Tk()  \n",
    "top.geometry(\"400x400\")\n",
    "top.title(\"EMI Calculator\")  \n",
    "Label(top, text = \"Amount\", padx = 10,pady = 10).grid(row =)\n",
    "Label(top, text = \"Principal Amount\", padx = 10,pady = 10)\n",
    "Label(top, text = \"Interest\",padx = 10,pady = 10)\n",
    "Label(top, text = \"Tenure in month\" padx = 10,pady = 10)\n",
    "Button(top, text = \"emi\",padx = 10,pady = 10).grid(row = 4, column = 0)   \n",
    "top.mainloop() "
   ]
  },
  {
   "cell_type": "code",
   "execution_count": 2,
   "metadata": {},
   "outputs": [],
   "source": [
    "import tkinter\n",
    "m= tkinter.Tk()\n",
    "m.mainloop()"
   ]
  },
  {
   "cell_type": "code",
   "execution_count": null,
   "metadata": {},
   "outputs": [],
   "source": [
    "\n",
    "import tkinter\n",
    "m = tkinter.Tk()\n",
    "'''\n",
    "widgets are added here\n",
    "'''\n",
    "m.mainloop()"
   ]
  },
  {
   "cell_type": "code",
   "execution_count": 1,
   "metadata": {},
   "outputs": [
    {
     "name": "stdout",
     "output_type": "stream",
     "text": [
      "hi\n"
     ]
    }
   ],
   "source": [
    "print(\"hi\")"
   ]
  },
  {
   "cell_type": "code",
   "execution_count": 1,
   "metadata": {},
   "outputs": [],
   "source": [
    "olumn=1)\n",
    "main.mainloop()"
   ]
  },
  {
   "cell_type": "code",
   "execution_count": 6,
   "metadata": {},
   "outputs": [
    {
     "ename": "KeyboardInterrupt",
     "evalue": "",
     "output_type": "error",
     "traceback": [
      "\u001b[1;31m---------------------------------------------------------------------------\u001b[0m",
      "\u001b[1;31mKeyboardInterrupt\u001b[0m                         Traceback (most recent call last)",
      "Cell \u001b[1;32mIn[6], line 10\u001b[0m\n\u001b[0;32m      8\u001b[0m text1\u001b[39m.\u001b[39mgrid(row\u001b[39m=\u001b[39m\u001b[39m0\u001b[39m,column\u001b[39m=\u001b[39m\u001b[39m1\u001b[39m)\n\u001b[0;32m      9\u001b[0m btn\u001b[39m.\u001b[39mgrid(row\u001b[39m=\u001b[39m\u001b[39m0\u001b[39m ,column\u001b[39m=\u001b[39m\u001b[39m1\u001b[39m)\n\u001b[1;32m---> 10\u001b[0m main\u001b[39m.\u001b[39;49mmainloop()\n",
      "File \u001b[1;32mc:\\Users\\User\\AppData\\Local\\Programs\\Python\\Python311\\Lib\\tkinter\\__init__.py:1485\u001b[0m, in \u001b[0;36mMisc.mainloop\u001b[1;34m(self, n)\u001b[0m\n\u001b[0;32m   1483\u001b[0m \u001b[39mdef\u001b[39;00m \u001b[39mmainloop\u001b[39m(\u001b[39mself\u001b[39m, n\u001b[39m=\u001b[39m\u001b[39m0\u001b[39m):\n\u001b[0;32m   1484\u001b[0m \u001b[39m    \u001b[39m\u001b[39m\"\"\"Call the mainloop of Tk.\"\"\"\u001b[39;00m\n\u001b[1;32m-> 1485\u001b[0m     \u001b[39mself\u001b[39;49m\u001b[39m.\u001b[39;49mtk\u001b[39m.\u001b[39;49mmainloop(n)\n",
      "\u001b[1;31mKeyboardInterrupt\u001b[0m: "
     ]
    }
   ],
   "source": [
    "import tkinter as tk\n",
    "main = tk.Tk(className=\"emi calculator\")\n",
    "main.geometry(\"400x600\")\n",
    "label=tk.Label(main,text=\"python\")\n",
    "text1 = tk.Entry(main)\n",
    "btn=tk.Button(main,text=\"submit\")\n",
    "label.grid(row=0,column=0)\n",
    "text1.grid(row=0,column=1)\n",
    "btn.grid(row=0 ,column=1)\n",
    "main.mainloop()"
   ]
  },
  {
   "attachments": {},
   "cell_type": "markdown",
   "metadata": {},
   "source": [
    "iterator function"
   ]
  },
  {
   "cell_type": "code",
   "execution_count": 1,
   "metadata": {},
   "outputs": [
    {
     "name": "stdout",
     "output_type": "stream",
     "text": [
      "3\n",
      "4\n"
     ]
    }
   ],
   "source": [
    "list1=[1,2,3,4]\n",
    "iterator_object=iter(list1)\n",
    "#this two bellow next functyion move two two object 1,2 \n",
    "next(iterator_object)\n",
    "next(iterator_object)\n",
    "print(next(iterator_object))\n",
    "print(next(iterator_object))"
   ]
  },
  {
   "cell_type": "code",
   "execution_count": 30,
   "metadata": {},
   "outputs": [
    {
     "name": "stdout",
     "output_type": "stream",
     "text": [
      "p\n",
      "t\n",
      "h\n",
      "o\n",
      "n\n"
     ]
    }
   ],
   "source": [
    "string1=\"python\"\n",
    "iter1=iter(string1)\n",
    "\n",
    "for i in (iter1):\n",
    "\n",
    "    if(i==\"y\"):\n",
    "        continue\n",
    "\n",
    "    print(i)"
   ]
  },
  {
   "cell_type": "code",
   "execution_count": 32,
   "metadata": {},
   "outputs": [
    {
     "ename": "AttributeError",
     "evalue": "'builtin_function_or_method' object has no attribute 'iter2'",
     "output_type": "error",
     "traceback": [
      "\u001b[1;31m---------------------------------------------------------------------------\u001b[0m",
      "\u001b[1;31mAttributeError\u001b[0m                            Traceback (most recent call last)",
      "Cell \u001b[1;32mIn[32], line 4\u001b[0m\n\u001b[0;32m      2\u001b[0m iter2\u001b[39m=\u001b[39m\u001b[39miter\u001b[39m(abc)\n\u001b[0;32m      3\u001b[0m \u001b[39mfor\u001b[39;00m i \u001b[39min\u001b[39;00m \u001b[39mrange\u001b[39m(\u001b[39m0\u001b[39m,\u001b[39m12\u001b[39m):\n\u001b[1;32m----> 4\u001b[0m     \u001b[39mprint\u001b[39m(\u001b[39mnext\u001b[39;49m\u001b[39m.\u001b[39;49miter2)\n",
      "\u001b[1;31mAttributeError\u001b[0m: 'builtin_function_or_method' object has no attribute 'iter2'"
     ]
    }
   ],
   "source": [
    "abc= 'goodmorning'\n",
    "iter2=iter(abc)\n",
    "for i in range(0,12):\n",
    "    print(next.iter2)"
   ]
  },
  {
   "cell_type": "code",
   "execution_count": null,
   "metadata": {},
   "outputs": [],
   "source": [
    "()"
   ]
  }
 ],
 "metadata": {
  "kernelspec": {
   "display_name": "Python 3",
   "language": "python",
   "name": "python3"
  },
  "language_info": {
   "codemirror_mode": {
    "name": "ipython",
    "version": 3
   },
   "file_extension": ".py",
   "mimetype": "text/x-python",
   "name": "python",
   "nbconvert_exporter": "python",
   "pygments_lexer": "ipython3",
   "version": "3.11.2"
  },
  "orig_nbformat": 4
 },
 "nbformat": 4,
 "nbformat_minor": 2
}
