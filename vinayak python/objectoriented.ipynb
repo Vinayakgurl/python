{
 "cells": [
  {
   "cell_type": "code",
   "execution_count": 12,
   "metadata": {},
   "outputs": [
    {
     "name": "stdout",
     "output_type": "stream",
     "text": [
      "no fuel is avialable\n"
     ]
    }
   ],
   "source": [
    "class Truck:\n",
    "    seat = 2\n",
    "    tyre = 6\n",
    "    fuel = 'diesel'\n",
    "    carier = \"goods\"\n",
    "    fuel_state = True\n",
    "    def drive(vinayak):\n",
    "        if vinayak.fuel_state ==True:\n",
    "            print(\"ready to drive\")\n",
    "        else:\n",
    "            print(\"no fuel is avialable\")\n",
    "    def __init__(self) -> None:\n",
    "        self.seat=5\n",
    "        self.tyre=7\n",
    "        self.fuel_state=False\n",
    "\n",
    "obj=Truck()\n",
    "obj.drive()"
   ]
  },
  {
   "cell_type": "code",
   "execution_count": 22,
   "metadata": {},
   "outputs": [
    {
     "name": "stdout",
     "output_type": "stream",
     "text": [
      "1 2\n",
      "no fuel is avialable\n"
     ]
    }
   ],
   "source": [
    "class Truck:\n",
    "    seat = 2\n",
    "    tyre = 6\n",
    "    fuel = 'diesel'\n",
    "    carier = \"goods\"\n",
    "    fuel_state = True\n",
    "    def drive(self,a,b):\n",
    "        print(a,b)\n",
    "        if self.fuel_state ==True:\n",
    "            print(\"ready to drive\")\n",
    "        else:\n",
    "            print(\"no fuel is avialable\")\n",
    "    def __init__(self) -> None:\n",
    "        self.seat=5\n",
    "        self.tyre=7\n",
    "        self.fuel_state=False\n",
    "\n",
    "obj=Truck()\n",
    "obj.drive(1,2)"
   ]
  },
  {
   "cell_type": "code",
   "execution_count": 23,
   "metadata": {},
   "outputs": [
    {
     "name": "stdout",
     "output_type": "stream",
     "text": [
      "1 2\n",
      "no fuel is avialable\n"
     ]
    }
   ],
   "source": [
    "class Truck:\n",
    "    seat = 2\n",
    "    tyre = 6\n",
    "    fuel = 'diesel'\n",
    "    carier = \"goods\"\n",
    "    fuel_state = True\n",
    "    def drive(self,a,b):\n",
    "        print(a,b)\n",
    "        print(\"convertd value are \",sel)\n",
    "        if self.fuel_state ==True:\n",
    "            print(\"ready to drive\")\n",
    "        else:\n",
    "            print(\"no fuel is avialable\")\n",
    "    def __init__(self,seat,tyre) -> None:\n",
    "        self.seat=seat\n",
    "        self.tyre=tyre\n",
    "        self.fuel_state=False\n",
    "\n",
    "obj=Truck(9,7)\n",
    "obj.drive(1,2)"
   ]
  },
  {
   "cell_type": "code",
   "execution_count": 7,
   "metadata": {},
   "outputs": [
    {
     "name": "stdout",
     "output_type": "stream",
     "text": [
      "studen is pass\n"
     ]
    }
   ],
   "source": [
    "class student:\n",
    "    physics=90\n",
    "    math=85\n",
    "    biology = 76\n",
    "    pass_mark = 150\n",
    "    result=0\n",
    "    def calculate(self):\n",
    "        self.result=(self.physics+self.biology+self.math)\n",
    "    \n",
    "    def marks(self):\n",
    "        if self.result>=self.pass_mark:\n",
    "            print(\"studen is pass\")\n",
    "\n",
    "    def __init__(self) -> None:\n",
    "        pass\n",
    "\n",
    "obj=student()\n",
    "obj.calculate()\n",
    "obj.marks()\n",
    "\n",
    "        "
   ]
  },
  {
   "cell_type": "code",
   "execution_count": 11,
   "metadata": {},
   "outputs": [
    {
     "name": "stdout",
     "output_type": "stream",
     "text": [
      "student is fail\n"
     ]
    }
   ],
   "source": [
    "class student:\n",
    "    physics=90\n",
    "    math=85\n",
    "    biology = 76\n",
    "    pass_mark = 150\n",
    "    result=0\n",
    "    def calculate(self):\n",
    "        self.result=(self.physics+self.biology+self.math)\n",
    "    \n",
    "    def marks(self):\n",
    "        if self.result>=self.pass_mark:\n",
    "            print(\"studen is pass\")\n",
    "\n",
    "        else:\n",
    "            print(\"student is fail\")\n",
    "\n",
    "    def __init__(self) -> None:\n",
    "        self.biology=98\n",
    "        self.math=5\n",
    "        self.physics=5\n",
    "        \n",
    "\n",
    "obj=student()\n",
    "obj.calculate()\n",
    "obj.marks()"
   ]
  },
  {
   "cell_type": "code",
   "execution_count": 16,
   "metadata": {},
   "outputs": [
    {
     "name": "stdout",
     "output_type": "stream",
     "text": [
      "ajay student is fail\n"
     ]
    }
   ],
   "source": [
    "class student:\n",
    "    student_name=\"ajay\"\n",
    "    physics=90\n",
    "    math=85\n",
    "    biology = 76\n",
    "    pass_mark = 150\n",
    "    result=0\n",
    "    def calculate(self):\n",
    "        self.result=(self.physics+self.biology+self.math)\n",
    "    \n",
    "    def marks(self):\n",
    "        if self.result>=self.pass_mark:\n",
    "            print(self.student_name,\"studen is\", \"pass\")\n",
    "\n",
    "        else:\n",
    "            print(self.student_name,\"student is\", \"fail\")\n",
    "\n",
    "    def __init__(self,biology,math,pysics) -> None:\n",
    "        self.biology=biology\n",
    "        self.math=math\n",
    "        self.physics=pysics\n",
    "        \n",
    "\n",
    "obj=student(98,5,6)\n",
    "obj.calculate()\n",
    "obj.marks()"
   ]
  },
  {
   "cell_type": "code",
   "execution_count": 29,
   "metadata": {},
   "outputs": [
    {
     "name": "stdout",
     "output_type": "stream",
     "text": [
      "programming\n"
     ]
    }
   ],
   "source": [
    "class parent():\n",
    "    __c=\"\"\n",
    "    def __init__(self):\n",
    "        self.a=\"python\"\n",
    "        self.__c=\"programming\"\n",
    "    def show(self):\n",
    "        print(self.__c)\n",
    "        \n",
    "class child(parent):\n",
    "        def __init__(self):\n",
    "            parent.__init__(self)\n",
    "            # print(\"__C:\",self.__c)\n",
    "\n",
    "obj1=parent()\n",
    "obj1.show()"
   ]
  },
  {
   "cell_type": "code",
   "execution_count": 39,
   "metadata": {},
   "outputs": [
    {
     "name": "stdout",
     "output_type": "stream",
     "text": [
      "dont worry i am implimented\n"
     ]
    }
   ],
   "source": [
    "class parent():\n",
    "    def abstracrt_function(self):\n",
    "        pass\n",
    "\n",
    "class child(parent):\n",
    "    def abstract_function(self):\n",
    "        print(\"dont worry i am implimented\")\n",
    "\n",
    "obj=child()\n",
    "obj.abstract_function()"
   ]
  },
  {
   "cell_type": "code",
   "execution_count": 21,
   "metadata": {},
   "outputs": [
    {
     "name": "stdout",
     "output_type": "stream",
     "text": [
      "name: vinayak designation: cs engineer sallary: 50000\n",
      "name: vijay designation: mechanical engineer sallary: 35000\n",
      "name: chandrakant designation:  civil engineer sallary: 25000\n",
      "name: shankar designation: electronics engineer sallary: 40000\n",
      "name: sanjay designation: electrical  engineer sallary: 45000\n"
     ]
    }
   ],
   "source": [
    "class cs_engineer:\n",
    "    name=\"\"\n",
    "    designatioin=\"\"\n",
    "    salary=\"\"\n",
    "    def prin(self):\n",
    "        print(\"name:\",self.name, \"designation:\",self.designatioin, \"sallary:\", self.salary)\n",
    "        \n",
    "    def __init__(self,name, designation,salary):\n",
    "        self.name=name \n",
    "        self.designatioin=designation\n",
    "        self.salary=salary\n",
    "\n",
    "\n",
    "class mechanical_engineer:\n",
    "    name=\"\"\n",
    "    designatioin=\"\"\n",
    "    salary=\"\"\n",
    "    def prin(self):\n",
    "      print(\"name:\",self.name, \"designation:\",self.designatioin, \"sallary:\", self.salary)\n",
    "    \n",
    "    def __init__(self,name, designation,salary):\n",
    "        self.name=name \n",
    "        self.designatioin=designation\n",
    "        self.salary=salary\n",
    "\n",
    "    \n",
    "class civil_engineer:\n",
    "    name=\"\"\n",
    "    designatioin=\"\"\n",
    "    salary=\"\"\n",
    "    def prin(self):\n",
    "       print(\"name:\",self.name, \"designation:\",self.designatioin, \"sallary:\", self.salary)\n",
    "\n",
    "    def __init__(self,name, designation,salary):\n",
    "        self.name=name \n",
    "        self.designatioin=designation\n",
    "        self.salary=salary\n",
    "\n",
    "\n",
    "class electronics_engineer:\n",
    "    name=\"\"\n",
    "    designatioin=\"\"\n",
    "    salary=\"\"\n",
    "    def prin(self):\n",
    "        print(\"name:\",self.name, \"designation:\",self.designatioin, \"sallary:\", self.salary)\n",
    "    \n",
    "    def __init__(self,name, designation,salary):\n",
    "        self.name=name \n",
    "        self.designatioin=designation\n",
    "        self.salary=salary\n",
    "\n",
    "\n",
    "class electrical_engineer:\n",
    "    name=\"\"\n",
    "    designatioin=\"\"\n",
    "    salary=\"\"\n",
    "    def prin(self):\n",
    "        print(\"name:\",self.name, \"designation:\",self.designatioin, \"sallary:\", self.salary)\n",
    "\n",
    "\n",
    "\n",
    "    def __init__(self,name, designation,salary):\n",
    "        self.name=name \n",
    "        self.designatioin=designation\n",
    "        self.salary=salary\n",
    "\n",
    "\n",
    "\n",
    "obj=cs_engineer('vinayak','cs engineer',\"50000\")\n",
    "obj.prin()\n",
    "obj=mechanical_engineer('vijay','mechanical engineer',\"35000\")\n",
    "obj.prin()\n",
    "obj=civil_engineer('chandrakant',' civil engineer',\"25000\")\n",
    "obj.prin()\n",
    "obj=electronics_engineer('shankar','electronics engineer',\"40000\")\n",
    "obj.prin()\n",
    "\n",
    "obj=electrical_engineer('sanjay','electrical  engineer',\"45000\")\n",
    "obj.prin()\n",
    "\n",
    "\n",
    "    "
   ]
  },
  {
   "attachments": {},
   "cell_type": "markdown",
   "metadata": {},
   "source": [
    "statastics"
   ]
  },
  {
   "cell_type": "code",
   "execution_count": 22,
   "metadata": {},
   "outputs": [
    {
     "name": "stdout",
     "output_type": "stream",
     "text": [
      "11.833333333333334\n"
     ]
    }
   ],
   "source": [
    "\n",
    "import statistics as st\n",
    "li=[1,2,3,4,5,56]\n",
    "print(st.mean(li))\n"
   ]
  },
  {
   "cell_type": "code",
   "execution_count": 40,
   "metadata": {},
   "outputs": [
    {
     "name": "stdout",
     "output_type": "stream",
     "text": [
      "4\n"
     ]
    }
   ],
   "source": [
    "\n",
    "import statistics as st\n",
    "# li=[1,2,3,4,5,56]\n",
    "# print(st.median(li))# ading midle value divided by 2 when it is even count\n",
    "\n",
    "li1=[1,4,7,4,98]\n",
    "print(st.median(li1))\n"
   ]
  },
  {
   "cell_type": "code",
   "execution_count": 47,
   "metadata": {},
   "outputs": [
    {
     "name": "stdout",
     "output_type": "stream",
     "text": [
      "4\n"
     ]
    }
   ],
   "source": [
    "import statistics as st\n",
    "# li=[1,2,3,4,5,56]\n",
    "# print(st.median(li))# ading midle value divided by 2 when it is even count\n",
    "\n",
    "li1=[1,4,4,7,12,7,4,98,1,1,4]\n",
    "print(st.mode(li1))"
   ]
  },
  {
   "cell_type": "code",
   "execution_count": 6,
   "metadata": {},
   "outputs": [
    {
     "ename": "SyntaxError",
     "evalue": "invalid syntax (4122083096.py, line 5)",
     "output_type": "error",
     "traceback": [
      "\u001b[1;36m  Cell \u001b[1;32mIn[6], line 5\u001b[1;36m\u001b[0m\n\u001b[1;33m    name = name_entry.\u001b[0m\n\u001b[1;37m                      ^\u001b[0m\n\u001b[1;31mSyntaxError\u001b[0m\u001b[1;31m:\u001b[0m invalid syntax\n"
     ]
    }
   ],
   "source": [
    "import csv\n",
    "from tkinter import Tk, Label, Entry, Button\n",
    "\n",
    "def save_employee_data():\n",
    "    name = name_entry.\n",
    "    age = age_entry.get()\n",
    "    department = department_entry.get()\n",
    "\n",
    "    with open('employee_data.csv', mode='a', newline='') as file:\n",
    "        writer = csv.writer(file)\n",
    "        writer.writerow([name, age, department])\n",
    "\n",
    "    name_entry.delete(0, 'end')\n",
    "    age_entry.delete(0, 'end')\n",
    "    department_entry.delete(0, 'end')\n",
    "\n",
    "root = Tk()\n",
    "\n",
    "name_label = Label(root, text=\"Name:\")\n",
    "name_label.pack()\n",
    "name_entry = Entry(root)\n",
    "name_entry.pack()\n",
    "\n",
    "age_label = Label(root, text=\"Age:\")\n",
    "age_label.pack()\n",
    "age_entry = Entry(root)\n",
    "age_entry.pack()\n",
    "\n",
    "department_label = Label(root, text=\"Department:\")\n",
    "department_label.pack()\n",
    "department_entry = Entry(root)\n",
    "department_entry.pack()\n",
    "\n",
    "save_button = Button(root, text=\"Save\", command=save_employee_data)\n",
    "save_button.pack()\n",
    "\n",
    "root.mainloop()"
   ]
  },
  {
   "cell_type": "code",
   "execution_count": 5,
   "metadata": {},
   "outputs": [
    {
     "data": {
      "image/png": "[encoded data removed]",
      "text/plain": [
       "<Figure size 640x480 with 4 Axes>"
      ]
     },
     "metadata": {},
     "output_type": "display_data"
    }
   ],
   "source": [
    "import pandas as pd\n",
    "import matplotlib.pyplot as plt\n",
    "  \n",
    "# create 2D array of table given above\n",
    "data = [['E001', 'M', 34, 123, 'Normal', 350],\n",
    "        ['E002', 'F', 40, 114, 'Overweight', 450],\n",
    "        ['E003', 'F', 37, 135, 'Obesity', 169],\n",
    "        ['E004', 'M', 30, 139, 'Underweight', 189],\n",
    "        ['E005', 'F', 44, 117, 'Underweight', 183],\n",
    "        ['E006', 'M', 36, 121, 'Normal', 80],\n",
    "        ['E007', 'M', 32, 133, 'Obesity', 166],\n",
    "        ['E008', 'F', 26, 140, 'Normal', 120],\n",
    "        ['E009', 'M', 32, 133, 'Normal', 75],\n",
    "        ['E010', 'M', 36, 133, 'Underweight', 40] ]\n",
    "# dataframe created with\n",
    "# the above data array\n",
    "df = pd.DataFrame(data, columns = ['EMPID', 'Gender', 'Age', 'Sales', 'BMI', 'Income'] )\n",
    "  \n",
    "# create histogram for numeric data\n",
    "df.hist()\n",
    "  \n",
    "# show plot\n",
    "plt.show()\n",
    "\n"
   ]
  },
  {
   "cell_type": "code",
   "execution_count": 7,
   "metadata": {},
   "outputs": [
    {
     "ename": "AttributeError",
     "evalue": "module 'matplotlib' has no attribute 'show'",
     "output_type": "error",
     "traceback": [
      "\u001b[1;31m---------------------------------------------------------------------------\u001b[0m",
      "\u001b[1;31mAttributeError\u001b[0m                            Traceback (most recent call last)",
      "Cell \u001b[1;32mIn[7], line 20\u001b[0m\n\u001b[0;32m     17\u001b[0m       \u001b[39m# except:\u001b[39;00m\n\u001b[0;32m     18\u001b[0m       \u001b[39mprint\u001b[39m(\u001b[39m\"\u001b[39m\u001b[39mno error\u001b[39m\u001b[39m\"\u001b[39m)\n\u001b[1;32m---> 20\u001b[0m fun()\n",
      "Cell \u001b[1;32mIn[7], line 15\u001b[0m, in \u001b[0;36mfun\u001b[1;34m()\u001b[0m\n\u001b[0;32m     12\u001b[0m \u001b[39m# print(df)\u001b[39;00m\n\u001b[0;32m     13\u001b[0m       \u001b[39m# try:\u001b[39;00m\n\u001b[0;32m     14\u001b[0m       df\u001b[39m.\u001b[39mhist()\n\u001b[1;32m---> 15\u001b[0m       plt\u001b[39m.\u001b[39;49mshow()\n\u001b[0;32m     17\u001b[0m       \u001b[39m# except:\u001b[39;00m\n\u001b[0;32m     18\u001b[0m       \u001b[39mprint\u001b[39m(\u001b[39m\"\u001b[39m\u001b[39mno error\u001b[39m\u001b[39m\"\u001b[39m)\n",
      "File \u001b[1;32mc:\\Users\\User\\AppData\\Local\\Programs\\Python\\Python311\\Lib\\site-packages\\matplotlib\\_api\\__init__.py:226\u001b[0m, in \u001b[0;36mcaching_module_getattr.<locals>.__getattr__\u001b[1;34m(name)\u001b[0m\n\u001b[0;32m    224\u001b[0m \u001b[39mif\u001b[39;00m name \u001b[39min\u001b[39;00m props:\n\u001b[0;32m    225\u001b[0m     \u001b[39mreturn\u001b[39;00m props[name]\u001b[39m.\u001b[39m\u001b[39m__get__\u001b[39m(instance)\n\u001b[1;32m--> 226\u001b[0m \u001b[39mraise\u001b[39;00m \u001b[39mAttributeError\u001b[39;00m(\n\u001b[0;32m    227\u001b[0m     \u001b[39mf\u001b[39m\u001b[39m\"\u001b[39m\u001b[39mmodule \u001b[39m\u001b[39m{\u001b[39;00m\u001b[39mcls\u001b[39m\u001b[39m.\u001b[39m\u001b[39m__module__\u001b[39m\u001b[39m!r}\u001b[39;00m\u001b[39m has no attribute \u001b[39m\u001b[39m{\u001b[39;00mname\u001b[39m!r}\u001b[39;00m\u001b[39m\"\u001b[39m)\n",
      "\u001b[1;31mAttributeError\u001b[0m: module 'matplotlib' has no attribute 'show'"
     ]
    },
    {
     "data": {
      "image/png": "[encoded data removed]",
      "text/plain": [
       "<Figure size 640x480 with 1 Axes>"
      ]
     },
     "metadata": {},
     "output_type": "display_data"
    }
   ],
   "source": [
    "import pandas as pd\n",
    "import matplotlib as plt\n",
    "\n",
    "def fun():\n",
    "      data=[[\"vimala\",1,\"bsc\",\"40%\"]\n",
    "            ,[\"gorav\",2,\"be\",\"50%\"]\n",
    "            ,[\"shankar\",3,\"diploma\",\"80%\"]\n",
    "            ,[\"aravind\",4,\"puc\",\"70%\"]\n",
    "\n",
    "             ]\n",
    "      df=pd.DataFrame(data,columns=[\"name\",\"roll number\",\"branch\",\"percentage\"])\n",
    "# print(df)\n",
    "      # try:\n",
    "      df.hist()\n",
    "      plt.show()\n",
    "\n",
    "      # except:\n",
    "      print(\"no error\")\n",
    "\n",
    "fun()\n",
    "\n",
    "\n",
    "      "
   ]
  },
  {
   "cell_type": "code",
   "execution_count": null,
   "metadata": {},
   "outputs": [],
   "source": []
  },
  {
   "cell_type": "code",
   "execution_count": 19,
   "metadata": {},
   "outputs": [
    {
     "data": {
      "image/png": "[encoded data removed]",
      "text/plain": [
       "<Figure size 640x480 with 1 Axes>"
      ]
     },
     "metadata": {},
     "output_type": "display_data"
    }
   ],
   "source": [
    "import pandas as pd\n",
    "import matplotlib.pyplot as plt\n",
    "data = [['vinayak',  34, 123, ],\n",
    "        ['arun',  40, 114, ],\n",
    "        ['varun',  37, 135, ],\n",
    "        ['kiran',  30, 139, ],\n",
    "        ['gourav',  44, 117, ],\n",
    "        ['varsha',  36, 121, ],\n",
    "         ]\n",
    "# dataframe created with\n",
    "df=pd.DataFrame(data,columns=[\"name\",\"aze\",\"roll_number\"])\n",
    "df.plot.bar()\n",
    "\n",
    "# plt.xlabel(\"name\")\n",
    "# plt.ylabel(\"roll number\")\n",
    "plt.xlabel(\"name\")\n",
    "plt.ylabel('aze')\n",
    "plt.show()"
   ]
  },
  {
   "cell_type": "code",
   "execution_count": 17,
   "metadata": {},
   "outputs": [
    {
     "data": {
      "text/plain": [
       "[122, 4, 54, 'd', 'f', 'd', 'r', 't', 'y', 'r', 't']"
      ]
     },
     "execution_count": 17,
     "metadata": {},
     "output_type": "execute_result"
    }
   ],
   "source": [
    "li=[122,4,54]\n",
    "li.extend(\"dfdrtyrt\")\n",
    "li"
   ]
  },
  {
   "cell_type": "code",
   "execution_count": 18,
   "metadata": {},
   "outputs": [
    {
     "name": "stdout",
     "output_type": "stream",
     "text": [
      "shankar\n",
      "hi\n"
     ]
    }
   ],
   "source": [
    "class parent:\n",
    "    name=\"shankar\"\n",
    "    roll_number=12\n",
    "class child(parent):\n",
    "    def child_class(self):\n",
    "        print(parent.name)\n",
    "        print(\"hi\")\n",
    "obj=child()\n",
    "obj.child_class()\n"
   ]
  },
  {
   "cell_type": "code",
   "execution_count": 7,
   "metadata": {},
   "outputs": [
    {
     "data": {
      "image/png": "[encoded data removed]",
      "text/plain": [
       "<Figure size 640x480 with 1 Axes>"
      ]
     },
     "metadata": {},
     "output_type": "display_data"
    }
   ],
   "source": [
    "import pandas\n",
    "import matplotlib.pyplot as plt\n",
    "data= [89,90,50,45,62]\n",
    "plt.pie ( data, labels= {\"sub1\",\"sub2\",\"sub3\",\"sub4\",\"sub5\"},\n",
    "          autopct='%1.2f%%',shadow=True)\n",
    "plt.show()"
   ]
  },
  {
   "cell_type": "code",
   "execution_count": 32,
   "metadata": {},
   "outputs": [
    {
     "data": {
      "image/png": "[encoded data removed]",
      "text/plain": [
       "<Figure size 640x480 with 1 Axes>"
      ]
     },
     "metadata": {},
     "output_type": "display_data"
    }
   ],
   "source": [
    "import pandas\n",
    "import matplotlib.pyplot as plt\n",
    "age=[20,30,53,45,26]\n",
    "income=[100,200,25,266,585]\n",
    "plt.scatter(age,income)\n",
    "plt.show()\n"
   ]
  },
  {
   "cell_type": "code",
   "execution_count": 30,
   "metadata": {},
   "outputs": [
    {
     "data": {
      "image/png": "[encoded data removed]",
      "text/plain": [
       "<Figure size 640x480 with 1 Axes>"
      ]
     },
     "metadata": {},
     "output_type": "display_data"
    }
   ],
   "source": [
    "import pandas\n",
    "import matplotlib.pyplot as plt\n",
    "age=[20,30,53,45,26]\n",
    "income=[100,200,25,266,585]\n",
    "age1=[30,20,50,56,47]\n",
    "income1=[1000,200,500,400,36]\n",
    "plt.scatter(age,income, marker=\"s\",c=\"red\",s=100,edgecolors=\"pink\",linewidths=2)\n",
    "plt.scatter(age1,income1, c=\"orange\",marker=\"^\",s=100,edgecolors=\"yellow\",linewidths=6)\n",
    "plt.show()\n"
   ]
  },
  {
   "cell_type": "code",
   "execution_count": 1,
   "metadata": {},
   "outputs": [
    {
     "name": "stdout",
     "output_type": "stream",
     "text": [
      "Int formatting: 1.000000e+06\n",
      "float formatting: 999,999.79\n"
     ]
    }
   ],
   "source": [
    "\n",
    "format_numeric = lambda num: f\"{num:e}\" if isinstance(num, int) else f\"{num:,.2f}\"\n",
    " \n",
    "print(\"Int formatting:\", format_numeric(1000000))\n",
    "print(\"float formatting:\", format_numeric(999999.789541235))"
   ]
  },
  {
   "cell_type": "code",
   "execution_count": 5,
   "metadata": {},
   "outputs": [
    {
     "name": "stdout",
     "output_type": "stream",
     "text": [
      "8\n"
     ]
    }
   ],
   "source": [
    "num = lambda a,b: a**b\n",
    "print(num(2,3))"
   ]
  },
  {
   "cell_type": "code",
   "execution_count": 7,
   "metadata": {},
   "outputs": [
    {
     "data": {
      "text/plain": [
       "8"
      ]
     },
     "execution_count": 7,
     "metadata": {},
     "output_type": "execute_result"
    }
   ],
   "source": [
    "lambda_function = lambda y:y*y*y\n",
    "lambda_function(2)"
   ]
  },
  {
   "cell_type": "code",
   "execution_count": 8,
   "metadata": {},
   "outputs": [
    {
     "data": {
      "text/plain": [
       "4"
      ]
     },
     "execution_count": 8,
     "metadata": {},
     "output_type": "execute_result"
    }
   ],
   "source": [
    "lam=lambda a,b:a if a>b else b\n",
    "lam(2,4)"
   ]
  },
  {
   "cell_type": "code",
   "execution_count": 9,
   "metadata": {},
   "outputs": [
    {
     "data": {
      "text/plain": [
       "[2, 4, 6, 8, 108]"
      ]
     },
     "execution_count": 9,
     "metadata": {},
     "output_type": "execute_result"
    }
   ],
   "source": [
    "\n",
    "li=[1,2,3,4,54]\n",
    "lis=[]\n",
    "for i in li:\n",
    "    lis.append(i*2)\n",
    "lis"
   ]
  },
  {
   "cell_type": "code",
   "execution_count": 5,
   "metadata": {},
   "outputs": [
    {
     "data": {
      "text/plain": [
       "3181"
      ]
     },
     "execution_count": 5,
     "metadata": {},
     "output_type": "execute_result"
    }
   ],
   "source": [
    "lamda_function = lambda a,b : a**2 + b**2\n",
    "lamda_function(int(input(\"enter the a value\")), int(input(\"enter the b value\")))\n"
   ]
  },
  {
   "cell_type": "code",
   "execution_count": 28,
   "metadata": {},
   "outputs": [
    {
     "name": "stdout",
     "output_type": "stream",
     "text": [
      "b is greater than a\n"
     ]
    }
   ],
   "source": [
    "lamda_if = lambda a,b : print(\"a is larger number\") if a>b  else print(\"b is greater than a\")\n",
    "lamda_if (10,78)               \n"
   ]
  },
  {
   "cell_type": "code",
   "execution_count": 42,
   "metadata": {},
   "outputs": [
    {
     "data": {
      "text/plain": [
       "[1, 2, 3, 4, 5]"
      ]
     },
     "execution_count": 42,
     "metadata": {},
     "output_type": "execute_result"
    }
   ],
   "source": [
    "lis = [1, 2, 3, 4, 5]\n",
    "result = list(map(lambda i: i, lis))\n",
    "result"
   ]
  },
  {
   "cell_type": "code",
   "execution_count": 44,
   "metadata": {},
   "outputs": [
    {
     "data": {
      "text/plain": [
       "[1, 4, 9, 16, 25]"
      ]
     },
     "execution_count": 44,
     "metadata": {},
     "output_type": "execute_result"
    }
   ],
   "source": [
    "lis = [1, 2, 3, 4, 5]\n",
    "result = list(map(lambda i: i**2, lis))\n",
    "result"
   ]
  },
  {
   "cell_type": "code",
   "execution_count": 75,
   "metadata": {},
   "outputs": [
    {
     "data": {
      "text/plain": [
       "56"
      ]
     },
     "execution_count": 75,
     "metadata": {},
     "output_type": "execute_result"
    }
   ],
   "source": [
    "li=list([1,3,4,54,56])\n",
    "li[4]"
   ]
  },
  {
   "cell_type": "code",
   "execution_count": 77,
   "metadata": {},
   "outputs": [
    {
     "data": {
      "text/plain": [
       "[1, 9, 16, 2916]"
      ]
     },
     "execution_count": 77,
     "metadata": {},
     "output_type": "execute_result"
    }
   ],
   "source": [
    "li=[1,3,4,54]\n",
    "lam=list(map(lambda i:i**2,li))\n",
    "lam"
   ]
  },
  {
   "cell_type": "code",
   "execution_count": null,
   "metadata": {},
   "outputs": [],
   "source": [
    "lis=[]"
   ]
  },
  {
   "cell_type": "code",
   "execution_count": 10,
   "metadata": {},
   "outputs": [
    {
     "name": "stdout",
     "output_type": "stream",
     "text": [
      "enter number is not number 9\n"
     ]
    }
   ],
   "source": [
    "def call():\n",
    "    num= 9\n",
    "    count=0\n",
    "    for i in range(1,num+1):\n",
    "\n",
    "\n",
    "        if num % i == 0:\n",
    "            count=count+1\n",
    "\n",
    "    if count==2:\n",
    "            \n",
    "            print(\"enter a number is prime number  \",num )\n",
    "    else:\n",
    "            print(\"enter number is not number\",num)\n",
    "call()"
   ]
  },
  {
   "cell_type": "code",
   "execution_count": null,
   "metadata": {},
   "outputs": [],
   "source": []
  }
 ],
 "metadata": {
  "kernelspec": {
   "display_name": "Python 3",
   "language": "python",
   "name": "python3"
  },
  "language_info": {
   "codemirror_mode": {
    "name": "ipython",
    "version": 3
   },
   "file_extension": ".py",
   "mimetype": "text/x-python",
   "name": "python",
   "nbconvert_exporter": "python",
   "pygments_lexer": "ipython3",
   "version": "3.11.2"
  },
  "orig_nbformat": 4
 },
 "nbformat": 4,
 "nbformat_minor": 2
}
