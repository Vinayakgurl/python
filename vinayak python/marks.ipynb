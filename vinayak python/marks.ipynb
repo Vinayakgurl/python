{
 "cells": [
  {
   "cell_type": "code",
   "execution_count": 26,
   "metadata": {},
   "outputs": [
    {
     "name": "stdout",
     "output_type": "stream",
     "text": [
      "{32, 33, 34, 35, 36, 37, 38, 39, 30, 31}\n",
      "{32, 33, 34, 35, 36, 37, 38, 39, 30, 31}\n",
      "36\n"
     ]
    }
   ],
   "source": [
    "calssA = set()\n",
    "classB = set()\n",
    "classC=set()\n",
    "for i in range(20,40) : \n",
    "    calssA.add(i)\n",
    "\n",
    "for j in range(30,80):\n",
    "    classB.add(j)\n",
    "    \n",
    "for k in range(10,100):\n",
    "    classC.add(k)\n",
    "\n",
    "set3 = calssA.intersection(classB)\n",
    "print(set3)\n",
    "set4 = classC.intersection(set3)\n",
    "print(set4)\n",
    "\n",
    "marks=int(input(\"enter the marks\"))\n",
    "for l in set4:\n",
    "    if(l==marks):\n",
    "        print(l)\n"
   ]
  },
  {
   "cell_type": "code",
   "execution_count": 36,
   "metadata": {},
   "outputs": [
    {
     "name": "stdout",
     "output_type": "stream",
     "text": [
      "None\n"
     ]
    }
   ],
   "source": [
    "dict = {1:20 , 2:\"21\"}\n",
    "dict2={1:24}\n",
    "print(dict.update (dict2))\n"
   ]
  },
  {
   "cell_type": "code",
   "execution_count": 33,
   "metadata": {},
   "outputs": [
    {
     "name": "stdout",
     "output_type": "stream",
     "text": [
      "true\n"
     ]
    }
   ],
   "source": [
    "set={1,2,3,4,5}\n",
    "set2={1,2,3,4,5}\n",
    "if set==set2:\n",
    "    print(\"true\")\n",
    "\n",
    "else:\n",
    "    print('False')"
   ]
  },
  {
   "cell_type": "code",
   "execution_count": 6,
   "metadata": {},
   "outputs": [
    {
     "name": "stdout",
     "output_type": "stream",
     "text": [
      "true\n"
     ]
    }
   ],
   "source": [
    "set={1,2,3,4}\n",
    "set2={1,2,3,4,5}\n",
    "if set!=set2:\n",
    "    print(\"true\")\n",
    "\n",
    "else:\n",
    "    print('False')"
   ]
  },
  {
   "cell_type": "code",
   "execution_count": 13,
   "metadata": {},
   "outputs": [
    {
     "name": "stdout",
     "output_type": "stream",
     "text": [
      "true\n"
     ]
    }
   ],
   "source": [
    "set={1,2,3,4,5}\n",
    "set2={1,2,3,4,5,6,7}\n",
    "if set<=set2:\n",
    "    print(\"true\")\n",
    "\n",
    "else:\n",
    "    print('False')"
   ]
  },
  {
   "cell_type": "code",
   "execution_count": 38,
   "metadata": {},
   "outputs": [
    {
     "name": "stdout",
     "output_type": "stream",
     "text": [
      "true\n"
     ]
    }
   ],
   "source": [
    "set={1,2,3,4,5,7,89,90}\n",
    "set2={1,2,3,4,5,7,5,2}\n",
    "if set>=set2:\n",
    "    print(\"true\")\n",
    "\n",
    "else:\n",
    "    print('False')"
   ]
  },
  {
   "attachments": {},
   "cell_type": "markdown",
   "metadata": {},
   "source": [
    ".\n"
   ]
  },
  {
   "cell_type": "code",
   "execution_count": 42,
   "metadata": {},
   "outputs": [
    {
     "name": "stdout",
     "output_type": "stream",
     "text": [
      "true\n"
     ]
    }
   ],
   "source": [
    "set={1,2}\n",
    "set2={1,2,3,6756,79}\n",
    "if set<set2:\n",
    "    print(\"true\")\n",
    "\n",
    "else:\n",
    "    print('False')"
   ]
  },
  {
   "cell_type": "code",
   "execution_count": null,
   "metadata": {},
   "outputs": [],
   "source": [
    "set1=[1,3,2,4,6,2]\n",
    "set2"
   ]
  },
  {
   "cell_type": "code",
   "execution_count": 2,
   "metadata": {},
   "outputs": [
    {
     "name": "stdout",
     "output_type": "stream",
     "text": [
      "geek for geek\n",
      "\n",
      "c++\n",
      "\n",
      "add\n",
      "\n",
      "hg\n",
      "\n"
     ]
    }
   ],
   "source": [
    "file_handler=open(r\"file_handling/file.txt\",\"r\")\n",
    "for line in file_handler:\n",
    "    print(line)"
   ]
  }
 ],
 "metadata": {
  "kernelspec": {
   "display_name": "Python 3",
   "language": "python",
   "name": "python3"
  },
  "language_info": {
   "codemirror_mode": {
    "name": "ipython",
    "version": 3
   },
   "file_extension": ".py",
   "mimetype": "text/x-python",
   "name": "python",
   "nbconvert_exporter": "python",
   "pygments_lexer": "ipython3",
   "version": "3.11.2"
  },
  "orig_nbformat": 4
 },
 "nbformat": 4,
 "nbformat_minor": 2
}
