{
 "cells": [
  {
   "cell_type": "code",
   "execution_count": 22,
   "metadata": {},
   "outputs": [
    {
     "name": "stdout",
     "output_type": "stream",
     "text": [
      "[1, 2, 89, 3, 5, 74, 4, 74, 2, 1, 1, 2, 1]\n",
      "[1, 2, 89, 3, 5, 74, 4, 74, 2, 1, 1, 2, 1, 'vinayak', 'jdekhd', 8695, 'mkd', 909]\n",
      "[1, 2, 89, 3, 5, 74, 4, 74, 2, 1, 1, 2, 1, 'vinayak', 'jdekhd', 8695, 'mkd', 909, 1, 2, 3, 434]\n"
     ]
    }
   ],
   "source": [
    "list = [1,2,3,5,74,4,74,2,1,1,2,1]\n",
    "list.insert(2,89)\n",
    "print(list)\n",
    "list1=['vinayak','jdekhd','mkd',909]\n",
    "#insert method\n",
    "list1.insert(2,8695)\n",
    "#count method\n",
    "list.count(2)\n",
    "#extend method\n",
    "list.extend(list1)\n",
    "print(list)\n",
    "\n",
    "tup = (1,2,3,434)\n",
    "list.extend(tup)\n",
    "print(list)\n"
   ]
  },
  {
   "attachments": {},
   "cell_type": "markdown",
   "metadata": {},
   "source": [
    "extend method"
   ]
  },
  {
   "cell_type": "code",
   "execution_count": 26,
   "metadata": {},
   "outputs": [
    {
     "name": "stdout",
     "output_type": "stream",
     "text": [
      "[2, 3, 4, 54, 2, 42, 'vinayak', 'abishek', 'raj']\n"
     ]
    }
   ],
   "source": [
    "list1 = [2,3,4,54,2,42]\n",
    "list2 = ['vinayak', 'abishek', 'raj']\n",
    "list1.extend(list2) \n",
    "print(list1)"
   ]
  },
  {
   "attachments": {},
   "cell_type": "markdown",
   "metadata": {},
   "source": [
    "index method"
   ]
  },
  {
   "cell_type": "code",
   "execution_count": 36,
   "metadata": {},
   "outputs": [
    {
     "data": {
      "text/plain": [
       "[6, 6, 6, 5, 4, 3, 2, 1]"
      ]
     },
     "execution_count": 36,
     "metadata": {},
     "output_type": "execute_result"
    }
   ],
   "source": [
    "list = [1,2,3,5,6,4,6,6]\n",
    "list.index(6)\n",
    "list.reverse()\n",
    "list\n",
    "list.sort()\n",
    "list\n",
    "list.sort(reverse=True)\n",
    "list\n"
   ]
  },
  {
   "attachments": {},
   "cell_type": "markdown",
   "metadata": {},
   "source": [
    "cmp method "
   ]
  },
  {
   "cell_type": "code",
   "execution_count": null,
   "metadata": {},
   "outputs": [],
   "source": [
    "list=[1,2,3,34,54]\n",
    "list1=[34,54,567,6,'vinayak']\n",
    "cmp"
   ]
  },
  {
   "cell_type": "code",
   "execution_count": 37,
   "metadata": {},
   "outputs": [
    {
     "name": "stdout",
     "output_type": "stream",
     "text": [
      "{2, 3, 5}\n"
     ]
    }
   ],
   "source": [
    "set1={1,2,3,4,5,23}\n",
    "set2= {2,3,5,2,2}\n",
    "set3=set1&set2\n",
    "print(set3)\n",
    "#it will print only common element"
   ]
  },
  {
   "cell_type": "code",
   "execution_count": null,
   "metadata": {},
   "outputs": [],
   "source": []
  }
 ],
 "metadata": {
  "kernelspec": {
   "display_name": "Python 3",
   "language": "python",
   "name": "python3"
  },
  "language_info": {
   "codemirror_mode": {
    "name": "ipython",
    "version": 3
   },
   "file_extension": ".py",
   "mimetype": "text/x-python",
   "name": "python",
   "nbconvert_exporter": "python",
   "pygments_lexer": "ipython3",
   "version": "3.11.2"
  },
  "orig_nbformat": 4
 },
 "nbformat": 4,
 "nbformat_minor": 2
}
