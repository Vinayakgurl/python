{
 "cells": [
  {
   "cell_type": "code",
   "execution_count": 13,
   "metadata": {},
   "outputs": [
    {
     "name": "stdout",
     "output_type": "stream",
     "text": [
      "4\n",
      "64\n",
      "4097\n"
     ]
    }
   ],
   "source": [
    "var1= lambda n: n*n\n",
    "var2 =lambda n:n*n*n\n",
    "\n",
    "# print(var1(2))\n",
    "# print(var2(2))\n",
    "\n",
    "ans=var1(2)\n",
    "ans2= var2(ans)\n",
    "print(ans)\n",
    "print(ans2)\n",
    "def call_function():\n",
    "    ans=var1(ans2)+1\n",
    "    print(ans)\n",
    "\n",
    "call_function()"
   ]
  },
  {
   "attachments": {},
   "cell_type": "markdown",
   "metadata": {},
   "source": [
    "checking a number is even or odd using lambda function"
   ]
  },
  {
   "cell_type": "code",
   "execution_count": 21,
   "metadata": {},
   "outputs": [
    {
     "data": {
      "text/plain": [
       "'enter numberis odd'"
      ]
     },
     "execution_count": 21,
     "metadata": {},
     "output_type": "execute_result"
    }
   ],
   "source": [
    "ans=lambda a:   \"enter number is even\"  if(a%2==0)  else  \"enter numberis odd\"   \n",
    "ans(int(input(\"enter a number\")))"
   ]
  },
  {
   "cell_type": "code",
   "execution_count": 22,
   "metadata": {},
   "outputs": [
    {
     "data": {
      "text/plain": [
       "'false'"
      ]
     },
     "execution_count": 22,
     "metadata": {},
     "output_type": "execute_result"
    }
   ],
   "source": [
    "ans=lambda a:   \"true\"  if(a%2==0)  else  \"false\"   \n",
    "ans(int(input(\"enter a number\")))"
   ]
  },
  {
   "cell_type": "code",
   "execution_count": null,
   "metadata": {},
   "outputs": [
    {
     "ename": "",
     "evalue": "",
     "output_type": "error",
     "traceback": [
      "\u001b[1;31mFailed to start the Kernel. \n",
      "\u001b[1;31mKernel base (Python 3.9.13) is not usable. Check the Jupyter output tab for more information. \n",
      "\u001b[1;31mView Jupyter <a href='command:jupyter.viewOutput'>log</a> for further details."
     ]
    }
   ],
   "source": [
    "import tkinter as Tk\n",
    "def calculate():\n",
    "    input_principal = (principal.get())\n",
    "    input_rate=float((rate.get())/12/100)\n",
    "    input_month=(month.get())\n",
    "    input_emi=input_principal * input_rate * (pow((1+input_rate),input_month)/(pow((1+input_rate),input_month)-1)) \n",
    "    emi.set(input_emi)\n",
    "    total_payment=float(input_emi * input_month )\n",
    "    Total_payment.set(format(total_payment))\n",
    "    total_interest_value=total_payment-input_principal\n",
    "    Total_Interest.set(format(total_interest_value))\n",
    "  \n",
    "main_window = Tk.Tk() \n",
    "main_window.title(\"EMI Calculator\") \n",
    "main_window.geometry(\"\") \n",
    "Tk.Label(main_window,text=\"Mobile Name\") \n",
    "Tk.Label(main_window,text=\"Amount\", padx=10,pady=10).grid(row=0)\n",
    "Tk.Label(main_window,text=\"Interest\", padx=10,pady=10).grid(row=1)\n",
    "Tk.Label(main_window,text=\"Duration\", padx=10,pady=10).grid(row=2) \n",
    "Tk.Button(main_window,text=\"Calculate\", command=calculate,padx=10,pady=10).grid(row=3,columnspan=2)\n",
    "\n",
    "principal = Tk.IntVar(main_window) \n",
    "rate = Tk.IntVar(main_window)\n",
    "month=Tk.IntVar(main_window)\n",
    "emi=Tk.IntVar(main_window) \n",
    "Total_Interest= Tk.StringVar(main_window)\n",
    "Total_payment=Tk.StringVar(main_window)\n",
    "\n",
    "\n",
    "\n",
    "Tk.Entry(main_window,textvariable= principal).grid(row=0,column=1) \n",
    "Tk.Entry(main_window,textvariable= rate).grid(row=1,column=1) \n",
    "Tk.Entry(main_window,textvariable= month).grid(row=2,column=1) \n",
    "Tk.Label(main_window,text=\"EMI\", padx=10,pady=10).grid(row=4,columnspan=2)\n",
    "Tk.Label(main_window,textvariable=\"emi\", font=(\"Arial\",16),padx=10,pady=10).grid(row=5,columnspan=2)\n",
    "Tk.Label(main_window,text=\"total_interest\").grid(row=6,columnspan=2) \n",
    "Tk.Label(main_window,textvariable=\"Total_Interest\",font=(\"Arial\",16),padx=10,pady=10).grid(row=7,columnspan=2) \n",
    "Tk.Label(main_window,text=\"total_Payment\").grid(row=8,columnspan=2) \n",
    "Tk.Label(main_window,textvariable=\"Total_payment\",font=(\"Arial\",16),padx=10,pady=10).grid(row=9,columnspan=2)\n",
    "main_window.mainloop()"
   ]
  },
  {
   "cell_type": "code",
   "execution_count": 5,
   "metadata": {},
   "outputs": [
    {
     "name": "stdout",
     "output_type": "stream",
     "text": [
      "enter the student data\n",
      "enter the student data\n",
      "student data is  [' rtggt', '77', '77', '8', '8', '899', '9', '9']\n"
     ]
    }
   ],
   "source": [
    "def student_data():\n",
    "    student = []\n",
    "    # for data in (0,4):\n",
    "    #     print(\"enter the student data\")\n",
    "    for s in (0,2):\n",
    "            print(\"enter the student data\")\n",
    "            student.append(input(\"enter the student name\"))\n",
    "            \n",
    "            student.append(input(\"enter student class\"))\n",
    "        \n",
    "            student.append(input(\"enetr student roll number\"))\n",
    "            \n",
    "            student.append(input('enter the student branch'))\n",
    "\n",
    "    \n",
    "    print(\"student data is \",student,end='\\n')\n",
    "\n",
    "\n",
    "\n",
    "student_data()\n"
   ]
  },
  {
   "cell_type": "code",
   "execution_count": null,
   "metadata": {},
   "outputs": [],
   "source": []
  }
 ],
 "metadata": {
  "kernelspec": {
   "display_name": "Python 3",
   "language": "python",
   "name": "python3"
  },
  "language_info": {
   "codemirror_mode": {
    "name": "ipython",
    "version": 3
   },
   "file_extension": ".py",
   "mimetype": "text/x-python",
   "name": "python",
   "nbconvert_exporter": "python",
   "pygments_lexer": "ipython3",
   "version": "3.11.2"
  },
  "orig_nbformat": 4
 },
 "nbformat": 4,
 "nbformat_minor": 2
}
