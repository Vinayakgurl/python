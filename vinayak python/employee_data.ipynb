{
 "cells": [
  {
   "cell_type": "code",
   "execution_count": 1,
   "metadata": {},
   "outputs": [
    {
     "name": "stdout",
     "output_type": "stream",
     "text": [
      "name: vinayak designation: cs engineer sallary: 50000\n",
      "name: vijay designation: mechanical engineer sallary: 35000\n",
      "name: chandrakant designation:  civil engineer sallary: 25000\n",
      "name: shankar designation: electronics engineer sallary: 40000\n",
      "name: sanjay designation: electrical  engineer sallary: 45000\n"
     ]
    }
   ],
   "source": [
    "class cs_engineer:\n",
    "    name=\"\"\n",
    "    designatioin=\"\"\n",
    "    salary=\"\"\n",
    "    def prin(self):\n",
    "        print(\"name:\",self.name, \"designation:\",self.designatioin, \"sallary:\", self.salary)\n",
    "        \n",
    "    def __init__(self,name, designation,salary):\n",
    "        self.name=name \n",
    "        self.designatioin=designation\n",
    "        self.salary=salary\n",
    "\n",
    "\n",
    "class mechanical_engineer:\n",
    "    name=\"\"\n",
    "    designatioin=\"\"\n",
    "    salary=\"\"\n",
    "    def prin(self):\n",
    "      print(\"name:\",self.name, \"designation:\",self.designatioin, \"sallary:\", self.salary)\n",
    "    \n",
    "    def __init__(self,name, designation,salary):\n",
    "        self.name=name \n",
    "        self.designatioin=designation\n",
    "        self.salary=salary\n",
    "\n",
    "    \n",
    "class civil_engineer:\n",
    "    name=\"\"\n",
    "    designatioin=\"\"\n",
    "    salary=\"\"\n",
    "    def prin(self):\n",
    "       print(\"name:\",self.name, \"designation:\",self.designatioin, \"sallary:\", self.salary)\n",
    "\n",
    "    def __init__(self,name, designation,salary):\n",
    "        self.name=name \n",
    "        self.designatioin=designation\n",
    "        self.salary=salary\n",
    "\n",
    "\n",
    "class electronics_engineer:\n",
    "    name=\"\"\n",
    "    designatioin=\"\"\n",
    "    salary=\"\"\n",
    "    def prin(self):\n",
    "        print(\"name:\",self.name, \"designation:\",self.designatioin, \"sallary:\", self.salary)\n",
    "    \n",
    "    def __init__(self,name, designation,salary):\n",
    "        self.name=name \n",
    "        self.designatioin=designation\n",
    "        self.salary=salary\n",
    "\n",
    "\n",
    "class electrical_engineer:\n",
    "    name=\"\"\n",
    "    designatioin=\"\"\n",
    "    salary=\"\"\n",
    "    def prin(self):\n",
    "        print(\"name:\",self.name, \"designation:\",self.designatioin, \"sallary:\", self.salary)\n",
    "\n",
    "\n",
    "\n",
    "    def __init__(self,name, designation,salary):\n",
    "        self.name=name \n",
    "        self.designatioin=designation\n",
    "        self.salary=salary\n",
    "\n",
    "\n",
    "\n",
    "obj=cs_engineer('vinayak','cs engineer',\"50000\")\n",
    "obj.prin()\n",
    "obj=mechanical_engineer('vijay','mechanical engineer',\"35000\")\n",
    "obj.prin()\n",
    "obj=civil_engineer('chandrakant',' civil engineer',\"25000\")\n",
    "obj.prin()\n",
    "obj=electronics_engineer('shankar','electronics engineer',\"40000\")\n",
    "obj.prin()\n",
    "\n",
    "obj=electrical_engineer('sanjay','electrical  engineer',\"45000\")\n",
    "obj.prin()\n",
    "\n",
    "\n",
    "    "
   ]
  },
  {
   "cell_type": "code",
   "execution_count": 20,
   "metadata": {},
   "outputs": [
    {
     "name": "stdout",
     "output_type": "stream",
     "text": [
      "7\n"
     ]
    }
   ],
   "source": [
    "import statistics as st\n",
    "# li=[1,2,3,4,5,56]\n",
    "# print(st.median(li))# ading midle value divided by 2 when it is even count\n",
    "\n",
    "li1=[4,7,4,98,9]\n",
    "print(st.median(li1))"
   ]
  },
  {
   "cell_type": "code",
   "execution_count": 27,
   "metadata": {},
   "outputs": [
    {
     "name": "stdout",
     "output_type": "stream",
     "text": [
      "1\n"
     ]
    }
   ],
   "source": [
    "import statistics as st\n",
    "# li=[1,2,3,4,5,56]\n",
    "# print(st.median(li))# ading midle value divided by 2 when it is even count\n",
    "\n",
    "li1=[1,4,7,4,98,1,98]\n",
    "print(st.mode(li1))"
   ]
  }
 ],
 "metadata": {
  "kernelspec": {
   "display_name": "Python 3",
   "language": "python",
   "name": "python3"
  },
  "language_info": {
   "codemirror_mode": {
    "name": "ipython",
    "version": 3
   },
   "file_extension": ".py",
   "mimetype": "text/x-python",
   "name": "python",
   "nbconvert_exporter": "python",
   "pygments_lexer": "ipython3",
   "version": "3.11.2"
  },
  "orig_nbformat": 4
 },
 "nbformat": 4,
 "nbformat_minor": 2
}
