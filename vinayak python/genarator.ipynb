{
 "cells": [
  {
   "cell_type": "code",
   "execution_count": 131,
   "metadata": {},
   "outputs": [
    {
     "name": "stdout",
     "output_type": "stream",
     "text": [
      "1\n",
      " generator.... 1\n",
      "8\n",
      " generator.... 2\n",
      "27\n",
      " generator.... 3\n"
     ]
    }
   ],
   "source": [
    "def gen21(a):\n",
    "    for i in a:\n",
    "        yield   i*i*i\n",
    "        \n",
    "        print(\" generator....\",i)\n",
    "\n",
    "    \n",
    "num=[1,2,3]\n",
    "cube_num=gen21(num)\n",
    "\n",
    "\n",
    "for i in cube_num:\n",
    "    print(i)\n",
    "    "
   ]
  },
  {
   "attachments": {},
   "cell_type": "markdown",
   "metadata": {},
   "source": [
    "genarate 10 odd number and sum them all print sum "
   ]
  },
  {
   "cell_type": "code",
   "execution_count": 132,
   "metadata": {},
   "outputs": [
    {
     "name": "stdout",
     "output_type": "stream",
     "text": [
      "sum of the 10 odd number is  100\n"
     ]
    }
   ],
   "source": [
    "def gen():\n",
    "    for i in range(20):\n",
    "        if(i%2!=0):\n",
    "            yield i\n",
    "\n",
    "def sum_of():\n",
    "    s=0\n",
    "    for value in gen():\n",
    "       s=s+value\n",
    "    print(\"sum of the 10 odd number is \",s)\n",
    "\n",
    "\n",
    "sum_of()\n",
    "\n",
    "\n",
    "\n"
   ]
  },
  {
   "cell_type": "code",
   "execution_count": 133,
   "metadata": {},
   "outputs": [
    {
     "name": "stdout",
     "output_type": "stream",
     "text": [
      "7 : 7\n",
      "21 : 14\n",
      "42 : 21\n",
      "70 : 28\n",
      "105 : 35\n",
      "147 : 42\n",
      "196 : 49\n",
      "252 : 56\n",
      "315 : 63\n",
      "385 : 70\n"
     ]
    }
   ],
   "source": [
    "def gen():\n",
    "    for i in range(1,71):\n",
    "        if(i%7==0):\n",
    "            yield i\n",
    "\n",
    "def sum_of():\n",
    "    s=0\n",
    "    for value in gen():\n",
    "        s=s+value\n",
    "    \n",
    "        print(s,\":\",value)\n",
    "    \n",
    "\n",
    "\n",
    "sum_of()"
   ]
  },
  {
   "cell_type": "code",
   "execution_count": 134,
   "metadata": {},
   "outputs": [
    {
     "data": {
      "text/plain": [
       "<generator object matr at 0x0000018347AD3540>"
      ]
     },
     "execution_count": 134,
     "metadata": {},
     "output_type": "execute_result"
    }
   ],
   "source": [
    "def matr():\n",
    "    mat=[[odd for i in range(1,7) for j in range(1, 7)  ]]\n",
    "    for i in range(37):\n",
    "        mat.append(int(input(\"eneter element to store\")))\n",
    "        yield mat\n",
    "\n",
    "def retr():\n",
    "   \n",
    "    for value in matr():\n",
    "        print(value )\n",
    "matr()\n",
    "\n",
    "\n"
   ]
  },
  {
   "cell_type": "code",
   "execution_count": 135,
   "metadata": {},
   "outputs": [],
   "source": [
    "fruits=['orange','grapes','banana','watermelon']\n",
    "fruit_list=[fr for fr in fruits]"
   ]
  },
  {
   "cell_type": "code",
   "execution_count": 136,
   "metadata": {},
   "outputs": [
    {
     "name": "stdout",
     "output_type": "stream",
     "text": [
      "grapes\n",
      "banana\n",
      "watermelon\n"
     ]
    }
   ],
   "source": [
    "def fruit():\n",
    "    fruits=['or','grapes','banana','watermelon']\n",
    "    for fr in fruits:\n",
    "        if( fr.find('a') != -1):\n",
    "            # print(fr.find('a'))\n",
    "            print(fr)\n",
    "\n",
    "\n",
    "fruit()\n",
    "\n",
    "\n"
   ]
  },
  {
   "cell_type": "code",
   "execution_count": 137,
   "metadata": {},
   "outputs": [
    {
     "data": {
      "text/plain": [
       "2"
      ]
     },
     "execution_count": 137,
     "metadata": {},
     "output_type": "execute_result"
    }
   ],
   "source": [
    "fruits=['or','grapes','banana','watermelon']\n",
    "fruits[1].find('a') "
   ]
  },
  {
   "cell_type": "code",
   "execution_count": 138,
   "metadata": {},
   "outputs": [
    {
     "name": "stdout",
     "output_type": "stream",
     "text": [
      "0 []\n",
      "0 [1]\n",
      "1 [1]\n",
      "1 [1, 1]\n",
      "2 [1, 1]\n",
      "2 [1, 1, 1]\n",
      "3 [1, 1, 1]\n",
      "3 [1, 1, 1, 1]\n",
      "4 [1, 1, 1, 1]\n",
      "4 [1, 1, 1, 1, 1]\n",
      "5 [1, 1, 1, 1, 1]\n",
      "5 [1, 1, 1, 1, 1, 1]\n",
      "6 [1, 1, 1, 1, 1, 1]\n",
      "6 [1, 1, 1, 1, 1, 1, 1]\n",
      "7 [1, 1, 1, 1, 1, 1, 1]\n",
      "7 [1, 1, 1, 1, 1, 1, 1, 1]\n",
      "8 [1, 1, 1, 1, 1, 1, 1, 1]\n",
      "8 [1, 1, 1, 1, 1, 1, 1, 1, 1]\n",
      "9 [1, 1, 1, 1, 1, 1, 1, 1, 1]\n",
      "9 [1, 1, 1, 1, 1, 1, 1, 1, 1, 1]\n",
      "10 [1, 1, 1, 1, 1, 1, 1, 1, 1, 1]\n",
      "10 [1, 1, 1, 1, 1, 1, 1, 1, 1, 1, 1]\n",
      "11 [1, 1, 1, 1, 1, 1, 1, 1, 1, 1, 1]\n",
      "11 [1, 1, 1, 1, 1, 1, 1, 1, 1, 1, 1, 1]\n",
      "12 [1, 1, 1, 1, 1, 1, 1, 1, 1, 1, 1, 1]\n",
      "12 [1, 1, 1, 1, 1, 1, 1, 1, 1, 1, 1, 1, 1]\n",
      "13 [1, 1, 1, 1, 1, 1, 1, 1, 1, 1, 1, 1, 1]\n",
      "13 [1, 1, 1, 1, 1, 1, 1, 1, 1, 1, 1, 1, 1, 1]\n",
      "14 [1, 1, 1, 1, 1, 1, 1, 1, 1, 1, 1, 1, 1, 1]\n",
      "14 [1, 1, 1, 1, 1, 1, 1, 1, 1, 1, 1, 1, 1, 1, 1]\n",
      "15 [1, 1, 1, 1, 1, 1, 1, 1, 1, 1, 1, 1, 1, 1, 1]\n",
      "15 [1, 1, 1, 1, 1, 1, 1, 1, 1, 1, 1, 1, 1, 1, 1, 1]\n"
     ]
    }
   ],
   "source": [
    "matr=[]\n",
    "for i in range(0,16):\n",
    "    count=0\n",
    "    for j in range(0,2):\n",
    "        count=count+1\n",
    "        if(j%2!=0):\n",
    "            matr.append(j)\n",
    "                \n",
    "            if(count==12):\n",
    "                '\\n'    \n",
    "\n",
    "        print(i,matr)\n",
    "\n",
    "\n",
    "\n",
    "\n"
   ]
  },
  {
   "cell_type": "code",
   "execution_count": 139,
   "metadata": {},
   "outputs": [
    {
     "data": {
      "text/plain": [
       "[[1, 3, 5, 7, 9, 11, 13, 15, 17, 19, 21, 23, 25, 27, 29, 31],\n",
       " [1, 3, 5, 7, 9, 11, 13, 15, 17, 19, 21, 23, 25, 27, 29, 31],\n",
       " [1, 3, 5, 7, 9, 11, 13, 15, 17, 19, 21, 23, 25, 27, 29, 31],\n",
       " [1, 3, 5, 7, 9, 11, 13, 15, 17, 19, 21, 23, 25, 27, 29, 31],\n",
       " [1, 3, 5, 7, 9, 11, 13, 15, 17, 19, 21, 23, 25, 27, 29, 31],\n",
       " [1, 3, 5, 7, 9, 11, 13, 15, 17, 19, 21, 23, 25, 27, 29, 31],\n",
       " [1, 3, 5, 7, 9, 11, 13, 15, 17, 19, 21, 23, 25, 27, 29, 31],\n",
       " [1, 3, 5, 7, 9, 11, 13, 15, 17, 19, 21, 23, 25, 27, 29, 31],\n",
       " [1, 3, 5, 7, 9, 11, 13, 15, 17, 19, 21, 23, 25, 27, 29, 31],\n",
       " [1, 3, 5, 7, 9, 11, 13, 15, 17, 19, 21, 23, 25, 27, 29, 31],\n",
       " [1, 3, 5, 7, 9, 11, 13, 15, 17, 19, 21, 23, 25, 27, 29, 31],\n",
       " [1, 3, 5, 7, 9, 11, 13, 15, 17, 19, 21, 23, 25, 27, 29, 31],\n",
       " [1, 3, 5, 7, 9, 11, 13, 15, 17, 19, 21, 23, 25, 27, 29, 31],\n",
       " [1, 3, 5, 7, 9, 11, 13, 15, 17, 19, 21, 23, 25, 27, 29, 31],\n",
       " [1, 3, 5, 7, 9, 11, 13, 15, 17, 19, 21, 23, 25, 27, 29, 31],\n",
       " [1, 3, 5, 7, 9, 11, 13, 15, 17, 19, 21, 23, 25, 27, 29, 31]]"
      ]
     },
     "execution_count": 139,
     "metadata": {},
     "output_type": "execute_result"
    }
   ],
   "source": [
    "mat=[[i for i in range(32) if i%2!=0] for j in range(16)]\n",
    "mat"
   ]
  },
  {
   "cell_type": "code",
   "execution_count": 140,
   "metadata": {},
   "outputs": [
    {
     "name": "stdout",
     "output_type": "stream",
     "text": [
      "['pappaya', 'orange', 'banana', 'mango']\n"
     ]
    }
   ],
   "source": [
    "fruit=['pappaya','orange','banana','mango']\n",
    "fruits=[fr for fr in fruit if fr.find('a')!=-1]\n",
    "print(fruits)\n"
   ]
  },
  {
   "attachments": {},
   "cell_type": "markdown",
   "metadata": {},
   "source": [
    "fetching the data from list"
   ]
  },
  {
   "cell_type": "code",
   "execution_count": 142,
   "metadata": {},
   "outputs": [
    {
     "name": "stdout",
     "output_type": "stream",
     "text": [
      "[4]\n"
     ]
    }
   ],
   "source": [
    "list= [[1,2],34,[1,[4], 3]]\n",
    "print(list[2][1]\n",
    "      )\n"
   ]
  },
  {
   "cell_type": "code",
   "execution_count": 7,
   "metadata": {},
   "outputs": [
    {
     "name": "stdout",
     "output_type": "stream",
     "text": [
      "2\n"
     ]
    }
   ],
   "source": [
    "list= [[1,2],[34]]\n",
    "print(list[0][1])\n",
    "\n"
   ]
  },
  {
   "attachments": {},
   "cell_type": "markdown",
   "metadata": {},
   "source": [
    "converting string into list"
   ]
  },
  {
   "cell_type": "code",
   "execution_count": 5,
   "metadata": {},
   "outputs": [
    {
     "name": "stdout",
     "output_type": "stream",
     "text": [
      "['hi', 'how', 'arre', 'you']\n"
     ]
    }
   ],
   "source": [
    "string=input(\"eneter a elment (space-separated):\")\n",
    "list=string.split()\n",
    "print(list)\n"
   ]
  },
  {
   "attachments": {},
   "cell_type": "markdown",
   "metadata": {},
   "source": [
    "inserting a element into list"
   ]
  },
  {
   "cell_type": "code",
   "execution_count": null,
   "metadata": {},
   "outputs": [
    {
     "name": "stdout",
     "output_type": "stream",
     "text": [
      "[1, 2, 20, 3, 4, 5]\n"
     ]
    }
   ],
   "source": [
    "li=[1,2,3,4,5]\n",
    "li.insert(2,20)\n",
    "print(li)"
   ]
  },
  {
   "cell_type": "code",
   "execution_count": null,
   "metadata": {},
   "outputs": [
    {
     "name": "stdout",
     "output_type": "stream",
     "text": [
      "[[0, 1, 2, 3, 4, 5, 6, 7, 8, 9, 10, 11, 12, 13, 14, 15], [0, 1, 2, 3, 4, 5, 6, 7, 8, 9, 10, 11, 12, 13, 14, 15], [0, 1, 2, 3, 4, 5, 6, 7, 8, 9, 10, 11, 12, 13, 14, 15], [0, 1, 2, 3, 4, 5, 6, 7, 8, 9, 10, 11, 12, 13, 14, 15], [0, 1, 2, 3, 4, 5, 6, 7, 8, 9, 10, 11, 12, 13, 14, 15], [0, 1, 2, 3, 4, 5, 6, 7, 8, 9, 10, 11, 12, 13, 14, 15], [0, 1, 2, 3, 4, 5, 6, 7, 8, 9, 10, 11, 12, 13, 14, 15], [0, 1, 2, 3, 4, 5, 6, 7, 8, 9, 10, 11, 12, 13, 14, 15], [0, 1, 2, 3, 4, 5, 6, 7, 8, 9, 10, 11, 12, 13, 14, 15], [0, 1, 2, 3, 4, 5, 6, 7, 8, 9, 10, 11, 12, 13, 14, 15], [0, 1, 2, 3, 4, 5, 6, 7, 8, 9, 10, 11, 12, 13, 14, 15], [0, 1, 2, 3, 4, 5, 6, 7, 8, 9, 10, 11, 12, 13, 14, 15], [0, 1, 2, 3, 4, 5, 6, 7, 8, 9, 10, 11, 12, 13, 14, 15], [0, 1, 2, 3, 4, 5, 6, 7, 8, 9, 10, 11, 12, 13, 14, 15], [0, 1, 2, 3, 4, 5, 6, 7, 8, 9, 10, 11, 12, 13, 14, 15], [0, 1, 2, 3, 4, 5, 6, 7, 8, 9, 10, 11, 12, 13, 14, 15]]\n"
     ]
    }
   ],
   "source": [
    "li = []\n",
    "for i in range(16):\n",
    "    li.append([])\n",
    "    for j in range(16):\n",
    "        li[i].append(j)\n",
    "\n",
    "print(li)"
   ]
  },
  {
   "cell_type": "code",
   "execution_count": null,
   "metadata": {},
   "outputs": [
    {
     "name": "stdout",
     "output_type": "stream",
     "text": [
      "['banana', 'grapes']\n"
     ]
    }
   ],
   "source": [
    "li=[\"pple\",'banana',\"grapes\"]\n",
    "emp=[]\n",
    "for i in li:\n",
    "\n",
    "    if 'a' in i:\n",
    "        emp.append(i)\n",
    "\n",
    "print(emp)\n",
    "\n",
    "        "
   ]
  },
  {
   "cell_type": "code",
   "execution_count": null,
   "metadata": {},
   "outputs": [
    {
     "name": "stdout",
     "output_type": "stream",
     "text": [
      "(1, 2, 3, 5, [1, 2, 3, 34])\n",
      "(1, 2, 3, 5, [1, 2, 3, 34, 23])\n"
     ]
    }
   ],
   "source": [
    "tup =(1,2,3,5,[1,2,3,34])\n",
    "print(tup)\n",
    "tup[4][1]\n",
    "tup[4].append(23)\n",
    "print(tup)"
   ]
  },
  {
   "cell_type": "code",
   "execution_count": null,
   "metadata": {},
   "outputs": [
    {
     "name": "stdout",
     "output_type": "stream",
     "text": [
      "storing list byte 64 bytes\n",
      "storing tuple  28 bytes\n"
     ]
    }
   ],
   "source": [
    "import sys\n",
    "li=[1]\n",
    "tup=(2)\n",
    "print(\"storing list byte\",sys.getsizeof(li),\"bytes\")\n",
    "print(\"storing tuple \",sys.getsizeof(tup),\"bytes\")"
   ]
  },
  {
   "cell_type": "code",
   "execution_count": null,
   "metadata": {},
   "outputs": [
    {
     "ename": "SyntaxError",
     "evalue": "leading zeros in decimal integer literals are not permitted; use an 0o prefix for octal integers (2067850069.py, line 6)",
     "output_type": "error",
     "traceback": [
      "\u001b[1;36m  Cell \u001b[1;32mIn[116], line 6\u001b[1;36m\u001b[0m\n\u001b[1;33m    set.add(08)\u001b[0m\n\u001b[1;37m            ^\u001b[0m\n\u001b[1;31mSyntaxError\u001b[0m\u001b[1;31m:\u001b[0m leading zeros in decimal integer literals are not permitted; use an 0o prefix for octal integers\n"
     ]
    }
   ],
   "source": [
    "set={1,2,3,4}\n",
    "set.add(34)\n",
    "set.add(76)\n",
    "set.add(90)\n",
    "\n",
    "set.add(08)\n",
    "print(set)"
   ]
  },
  {
   "attachments": {},
   "cell_type": "markdown",
   "metadata": {},
   "source": [
    "union(|) in set "
   ]
  },
  {
   "cell_type": "code",
   "execution_count": null,
   "metadata": {},
   "outputs": [
    {
     "name": "stdout",
     "output_type": "stream",
     "text": [
      "{1, 2, 3, 4, 34, 76, 90}\n"
     ]
    }
   ],
   "source": [
    "set={1,2,3,4}\n",
    "set.add(34)\n",
    "set.add(76)\n",
    "set.add(90)\n",
    "print(set)"
   ]
  },
  {
   "cell_type": "code",
   "execution_count": null,
   "metadata": {},
   "outputs": [
    {
     "name": "stdout",
     "output_type": "stream",
     "text": [
      "{'boy', 'samarth', 'vinay', 'idrish', 'jay '}\n",
      "{'boy', 'samarth', 'vinay', 'idrish', 'jay '}\n"
     ]
    }
   ],
   "source": [
    "li={'jay ',\"idrish\",\"boy\"}\n",
    "vampire={\"vinay\",\"samarth\"}\n",
    "store=li|(vampire)\n",
    "adg=li.union(vampire)\n",
    "print(adg)\n",
    "print(store)\n"
   ]
  },
  {
   "attachments": {},
   "cell_type": "markdown",
   "metadata": {},
   "source": [
    "intersection in set"
   ]
  },
  {
   "cell_type": "code",
   "execution_count": 144,
   "metadata": {},
   "outputs": [
    {
     "ename": "TypeError",
     "evalue": "'set' object is not callable",
     "output_type": "error",
     "traceback": [
      "\u001b[1;31m---------------------------------------------------------------------------\u001b[0m",
      "\u001b[1;31mTypeError\u001b[0m                                 Traceback (most recent call last)",
      "Cell \u001b[1;32mIn[144], line 1\u001b[0m\n\u001b[1;32m----> 1\u001b[0m set1\u001b[39m=\u001b[39m\u001b[39mset\u001b[39;49m()\n\u001b[0;32m      2\u001b[0m set2\u001b[39m=\u001b[39m\u001b[39mset\u001b[39m()\n\u001b[0;32m      3\u001b[0m \u001b[39mfor\u001b[39;00m i \u001b[39min\u001b[39;00m \u001b[39mrange\u001b[39m(\u001b[39m5\u001b[39m):\n",
      "\u001b[1;31mTypeError\u001b[0m: 'set' object is not callable"
     ]
    }
   ],
   "source": [
    "set1=set()\n",
    "set2=set()\n",
    "for i in range(5):\n",
    "    set1.add(i)\n",
    "\n",
    "for i in range(3,9):\n",
    "    set2.add(i)\n",
    "\n",
    "set3=set1.intersection(set2)\n",
    "print(set3)\n",
    "\n",
    "\n"
   ]
  },
  {
   "cell_type": "code",
   "execution_count": 1,
   "metadata": {},
   "outputs": [
    {
     "name": "stdout",
     "output_type": "stream",
     "text": [
      "{3, 4}\n"
     ]
    }
   ],
   "source": [
    "set1=set()\n",
    "set2=set()\n",
    "for i in range(5):\n",
    "    set1.add(i)\n",
    "\n",
    "for i in range(3,9):\n",
    "    set2.add(i)\n",
    "\n",
    "set3=set1.intersection(set2)\n",
    "print(set3)"
   ]
  },
  {
   "attachments": {},
   "cell_type": "markdown",
   "metadata": {},
   "source": [
    "difference in set which means  it will element except comman element in two set and print only set2 element when we take first element is substract (set2)"
   ]
  },
  {
   "cell_type": "code",
   "execution_count": 17,
   "metadata": {},
   "outputs": [
    {
     "data": {
      "text/plain": [
       "{7, 23}"
      ]
     },
     "execution_count": 17,
     "metadata": {},
     "output_type": "execute_result"
    }
   ],
   "source": [
    "set = {1,2,335,567,78,28}\n",
    "set2 = {1,23,335,28,7,2}\n",
    "set3=set2-set\n",
    "set3"
   ]
  },
  {
   "cell_type": "code",
   "execution_count": 3,
   "metadata": {},
   "outputs": [
    {
     "name": "stdout",
     "output_type": "stream",
     "text": [
      "['geek']\n"
     ]
    }
   ],
   "source": [
    "string=\"geek\"\n",
    "list= string.split()\n",
    "print(list)"
   ]
  },
  {
   "attachments": {},
   "cell_type": "markdown",
   "metadata": {},
   "source": [
    "SET METHOD "
   ]
  },
  {
   "cell_type": "code",
   "execution_count": 10,
   "metadata": {},
   "outputs": [],
   "source": [
    "set=(1,2,32,3424)\n",
    "set2=(12,367,3,72,1)\n",
    "if set==set2:\n",
    "    True\n",
    "\n",
    "else:\n",
    "    False"
   ]
  },
  {
   "cell_type": "code",
   "execution_count": null,
   "metadata": {},
   "outputs": [],
   "source": []
  },
  {
   "cell_type": "code",
   "execution_count": null,
   "metadata": {},
   "outputs": [],
   "source": [
    "\n"
   ]
  }
 ],
 "metadata": {
  "kernelspec": {
   "display_name": "Python 3",
   "language": "python",
   "name": "python3"
  },
  "language_info": {
   "codemirror_mode": {
    "name": "ipython",
    "version": 3
   },
   "file_extension": ".py",
   "mimetype": "text/x-python",
   "name": "python",
   "nbconvert_exporter": "python",
   "pygments_lexer": "ipython3",
   "version": "3.11.2"
  },
  "orig_nbformat": 4
 },
 "nbformat": 4,
 "nbformat_minor": 2
}
