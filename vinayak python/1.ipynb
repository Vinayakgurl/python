{
 "cells": [
  {
   "cell_type": "code",
   "execution_count": null,
   "metadata": {},
   "outputs": [],
   "source": [
    "def area_ofcircle(r):\n",
    "    area = 3.143 * (r**2)\n",
    "    return area\n",
    "\n",
    "ans=area_ofcircle(input(\"enter the circle radious value\"))\n",
    "print (\"area of the circle is \",ans) "
   ]
  },
  {
   "cell_type": "code",
   "execution_count": null,
   "metadata": {},
   "outputs": [],
   "source": [
    "def swap(a,b):\n",
    "    a,b=b,a\n",
    "    return a,b\n",
    "\n",
    "ans=swap(input(\"enter the first value \"),input(\"enter the 2nd  value \"))\n",
    "print(ans)"
   ]
  },
  {
   "attachments": {},
   "cell_type": "markdown",
   "metadata": {},
   "source": [
    "converting kilometers to  miles"
   ]
  },
  {
   "cell_type": "code",
   "execution_count": null,
   "metadata": {},
   "outputs": [],
   "source": [
    "def converting(kilometer):\n",
    "    miles = 0.621371*kilometer\n",
    "    print(\"kilometeis\", kilometer, \"is converted to miles is \",miles)\n",
    "\n",
    "converting(input(\"enter the kilometr value \"))\n"
   ]
  },
  {
   "attachments": {},
   "cell_type": "markdown",
   "metadata": {},
   "source": [
    "checking number is positive or negative "
   ]
  },
  {
   "cell_type": "code",
   "execution_count": null,
   "metadata": {},
   "outputs": [],
   "source": [
    "def posorneg(num):\n",
    "    if(num>0):\n",
    "        print(\"entered number is positve\")\n",
    "    else:\n",
    "        print(\"entered number is negeative\")\n",
    "\n",
    "posorneg(float(input(\"enter the number\")))"
   ]
  },
  {
   "attachments": {},
   "cell_type": "markdown",
   "metadata": {},
   "source": [
    "randome number "
   ]
  },
  {
   "cell_type": "markdown",
   "metadata": {},
   "source": []
  },
  {
   "cell_type": "code",
   "execution_count": null,
   "metadata": {},
   "outputs": [],
   "source": []
  },
  {
   "cell_type": "markdown",
   "metadata": {},
   "source": []
  }
 ],
 "metadata": {
  "language_info": {
   "name": "python"
  },
  "orig_nbformat": 4
 },
 "nbformat": 4,
 "nbformat_minor": 2
}
