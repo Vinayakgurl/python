{
 "cells": [
  {
   "cell_type": "code",
   "execution_count": 7,
   "metadata": {},
   "outputs": [
    {
     "name": "stdout",
     "output_type": "stream",
     "text": [
      "5\n",
      "hello\n"
     ]
    }
   ],
   "source": [
    "file= open(r\"fuile.txt\",\"w\")\n",
    "ad=file.write(\"hello\")\n",
    "print(ad)\n",
    "\n",
    "\n",
    "\n",
    "file2 = open(r\"fuile.txt\",\"r\")\n",
    "li=file2.read()\n",
    "print(li)\n"
   ]
  },
  {
   "cell_type": "code",
   "execution_count": 18,
   "metadata": {},
   "outputs": [
    {
     "name": "stdout",
     "output_type": "stream",
     "text": [
      "a \n",
      "d \n",
      "c \n",
      "v \n",
      "b \n",
      "\n"
     ]
    }
   ],
   "source": [
    "fd = open(r\"fuile.txt\",\"w\")\n",
    "for i in range(5):\n",
    "    i=input(\"enter the name\")\n",
    "    i=str('')+i+str(\" \\n\")\n",
    "    add = fd.write(i)\n",
    "fd.close()\n",
    "\n",
    "file2 = open(r\"fuile.txt\",\"r\")\n",
    "li=file2.read()\n",
    "print(li)\n",
    "file2.close()\n",
    "\n"
   ]
  },
  {
   "cell_type": "code",
   "execution_count": 25,
   "metadata": {},
   "outputs": [
    {
     "name": "stdout",
     "output_type": "stream",
     "text": [
      "hello \n",
      "c \n",
      "v \n",
      "b \n",
      "a 1\n",
      "b 2\n",
      "c 3\n",
      "d 4\n",
      "e 5\n",
      "a 1\n",
      "b 2\n",
      "c 3\n",
      "d 4\n",
      "e 5\n",
      "\n"
     ]
    }
   ],
   "source": [
    "list1 = ['a','b','c','d','e']\n",
    "list2= [1,2,3,4,5]\n",
    "fd = open(r\"fuile.txt\",'a')\n",
    "for i in range(5):\n",
    "    value = list1[i]+str(\" \")+str(list2[i])+str(\"\\n\")\n",
    "    add=fd.write(value)\n",
    "fd.close()\n",
    "\n",
    "file = open(r\"fuile.txt\",\"r\")\n",
    "add=file.read()\n",
    "print(add)\n",
    "file.close()\n"
   ]
  },
  {
   "cell_type": "code",
   "execution_count": 18,
   "metadata": {},
   "outputs": [
    {
     "name": "stdout",
     "output_type": "stream",
     "text": [
      "Value: 1, portal:5.3\n",
      "tottal student:240.boys:120\n",
      "    031\n",
      " 3.561E+02\n"
     ]
    }
   ],
   "source": [
    "print(\"Value:%2d, portal:%2.1f\" %(1, 05.33))\n",
    "#print integer value\n",
    "print(\"tottal student:%3d.boys:%2d\" %(240,120))\n",
    "#print octal value\n",
    "print(\"%7.3o\" %(25))\n",
    "#print exponential value\n",
    "print(\"%10.3E\" %(356.08977))"
   ]
  },
  {
   "cell_type": "code",
   "execution_count": 19,
   "metadata": {},
   "outputs": [
    {
     "ename": "ZeroDivisionError",
     "evalue": "division by zero",
     "output_type": "error",
     "traceback": [
      "\u001b[1;31m---------------------------------------------------------------------------\u001b[0m",
      "\u001b[1;31mZeroDivisionError\u001b[0m                         Traceback (most recent call last)",
      "Cell \u001b[1;32mIn[19], line 1\u001b[0m\n\u001b[1;32m----> 1\u001b[0m a\u001b[39m=\u001b[39m\u001b[39m1\u001b[39;49m\u001b[39m/\u001b[39;49m\u001b[39m0\u001b[39;49m\n\u001b[0;32m      2\u001b[0m \u001b[39mprint\u001b[39m(a)\n",
      "\u001b[1;31mZeroDivisionError\u001b[0m: division by zero"
     ]
    }
   ],
   "source": [
    "a=1/0\n",
    "print(a)"
   ]
  },
  {
   "cell_type": "code",
   "execution_count": 12,
   "metadata": {},
   "outputs": [
    {
     "ename": "ZeroDivisionError",
     "evalue": "integer division or modulo by zero",
     "output_type": "error",
     "traceback": [
      "\u001b[1;31m---------------------------------------------------------------------------\u001b[0m",
      "\u001b[1;31mZeroDivisionError\u001b[0m                         Traceback (most recent call last)",
      "Cell \u001b[1;32mIn[12], line 6\u001b[0m\n\u001b[0;32m      3\u001b[0m         result\u001b[39m=\u001b[39mx\u001b[39m/\u001b[39m\u001b[39m/\u001b[39my\n\u001b[0;32m      4\u001b[0m         \u001b[39mprint\u001b[39m(\u001b[39m\"\u001b[39m\u001b[39mresult:\u001b[39m\u001b[39m%d\u001b[39;00m\u001b[39m \u001b[39m\u001b[39m\"\u001b[39m\u001b[39m%\u001b[39m(result))\n\u001b[1;32m----> 6\u001b[0m divide(\u001b[39m2\u001b[39;49m,\u001b[39m0\u001b[39;49m)\n",
      "Cell \u001b[1;32mIn[12], line 3\u001b[0m, in \u001b[0;36mdivide\u001b[1;34m(x, y)\u001b[0m\n\u001b[0;32m      1\u001b[0m \u001b[39mdef\u001b[39;00m \u001b[39mdivide\u001b[39m(x,y):\n\u001b[1;32m----> 3\u001b[0m         result\u001b[39m=\u001b[39mx\u001b[39m/\u001b[39;49m\u001b[39m/\u001b[39;49my\n\u001b[0;32m      4\u001b[0m         \u001b[39mprint\u001b[39m(\u001b[39m\"\u001b[39m\u001b[39mresult:\u001b[39m\u001b[39m%d\u001b[39;00m\u001b[39m \u001b[39m\u001b[39m\"\u001b[39m\u001b[39m%\u001b[39m(result))\n",
      "\u001b[1;31mZeroDivisionError\u001b[0m: integer division or modulo by zero"
     ]
    }
   ],
   "source": [
    "def divide(x,y):\n",
    "    \n",
    "        result=x//y\n",
    "        print(\"result:%d \"%(result))\n",
    "\n",
    "divide(2,0)"
   ]
  },
  {
   "cell_type": "code",
   "execution_count": null,
   "metadata": {},
   "outputs": [],
   "source": [
    "def divide(x,y):\n",
    "    try:\n",
    "        result=x//y\n",
    "        print(\"result:%d \"%(result))\n",
    "    except ZeroDivisionError:\n",
    "\n",
    "        print(\"sorry you are dividing by zero\")\n",
    "divide(2,0)"
   ]
  },
  {
   "cell_type": "code",
   "execution_count": 11,
   "metadata": {},
   "outputs": [
    {
     "name": "stdout",
     "output_type": "stream",
     "text": [
      "entet the sqrt number is positive number\n"
     ]
    }
   ],
   "source": [
    "\n",
    "import math\n",
    "def name(a):\n",
    "     try:\n",
    "        dict= math.sqrt(a)\n",
    "        print(dict)\n",
    "\n",
    "     except ValueError :\n",
    "         print(\"entet the sqrt number is positive number\")\n",
    "\n",
    "name(-10)\n",
    "\n"
   ]
  },
  {
   "cell_type": "code",
   "execution_count": 28,
   "metadata": {},
   "outputs": [
    {
     "name": "stdout",
     "output_type": "stream",
     "text": [
      "exception raised\n",
      "i am printing from finally block\n"
     ]
    }
   ],
   "source": [
    "def functiom():\n",
    "    try:\n",
    "        filename=\"file1234.txt\"\n",
    "        fd = open(filename,\"r\")\n",
    "        fd.read(\"hello python\")\n",
    "        fd.close()\n",
    "    except:\n",
    "        print(\"exception raised\")\n",
    "\n",
    "    finally:\n",
    "        print(\"i am printing from finally block\")\n",
    "        fd = open(filename,\"w\")\n",
    "        fd.close()\n",
    "\n",
    "functiom()"
   ]
  },
  {
   "attachments": {},
   "cell_type": "markdown",
   "metadata": {},
   "source": [
    "acces only email id"
   ]
  },
  {
   "cell_type": "code",
   "execution_count": 22,
   "metadata": {},
   "outputs": [
    {
     "name": "stdout",
     "output_type": "stream",
     "text": [
      "\n",
      "emial id:vinay@gmail.com\n",
      "\n"
     ]
    }
   ],
   "source": [
    "# with open(\"file1.txt\",\"w\") as file_handler:\n",
    "ad={\"name\":\"vinayak\", \"rool number\":\"123\",\"emial id\":\"vinay@gmail.com\"}\n",
    "with open(\"file1.txt\",\"w\") as file_handler:\n",
    "\n",
    "    for i,j in ad.items():   \n",
    "        sum=file_handler.write(\"%s:%s\\n\" %(i,j))\n",
    "        # print(sum)\n",
    "\n",
    "\n",
    "with open(\"file1.txt\",\"r\") as file_handler:\n",
    "    ab=file_handler.seek(30)\n",
    "    lm=file_handler.read(ab)\n",
    "    print(lm)"
   ]
  },
  {
   "cell_type": "code",
   "execution_count": 20,
   "metadata": {},
   "outputs": [
    {
     "name": "stdout",
     "output_type": "stream",
     "text": [
      "13\n",
      "16\n",
      "25\n",
      "\n",
      "emial id:vinay@gmail.com\n",
      "\n"
     ]
    }
   ],
   "source": [
    "ad={\"name\":\"vinayak\", \"rool number\":\"123\",\"emial id\":\"vinay@gmail.com\"}\n",
    "with open(\"file1.txt\",\"w\") as file_handler:\n",
    "\n",
    "    for i,j in ad.items():   \n",
    "        sum=file_handler.write(\"%s:%s\\n\" %(i,j))\n",
    "        print(sum)\n",
    "\n",
    "\n",
    "with open(\"file1.txt\",\"r\") as file_handler:\n",
    "    ab=file_handler.seek(30)\n",
    "    lm=file_handler.read(ab)\n",
    "    print(lm)"
   ]
  },
  {
   "attachments": {},
   "cell_type": "markdown",
   "metadata": {},
   "source": [
    "find the interesection of two element from a list"
   ]
  },
  {
   "cell_type": "code",
   "execution_count": 51,
   "metadata": {},
   "outputs": [
    {
     "name": "stdout",
     "output_type": "stream",
     "text": [
      "{'vinay': 1, 'samarth': 2, 'chandrakant': 3}\n"
     ]
    }
   ],
   "source": [
    "list=[\"vinay\",\"samarth\",\"chandrakant\"]\n",
    "list1=[1,2,3]\n",
    "empty={}\n",
    "for i in list:\n",
    "    for j in list1:\n",
    "        empty[i]=j\n",
    "    \n",
    "        list1.remove(j)\n",
    "        break\n",
    "\n",
    "\n",
    "        \n",
    "        \n",
    "print(empty)\n"
   ]
  },
  {
   "attachments": {},
   "cell_type": "markdown",
   "metadata": {},
   "source": [
    "interesection of two list"
   ]
  },
  {
   "cell_type": "code",
   "execution_count": 52,
   "metadata": {},
   "outputs": [
    {
     "name": "stdout",
     "output_type": "stream",
     "text": [
      "{1}\n"
     ]
    }
   ],
   "source": [
    "list=[1,45,6,34,23,1]\n",
    "list1=[1,2,3]\n",
    "set1=set(list)\n",
    "set2=set(list1)\n",
    "set3=set1.intersection(set2)\n",
    "print(set3)"
   ]
  },
  {
   "attachments": {},
   "cell_type": "markdown",
   "metadata": {},
   "source": [
    "creating excel file or csv file for student "
   ]
  },
  {
   "cell_type": "code",
   "execution_count": 67,
   "metadata": {},
   "outputs": [
    {
     "name": "stdout",
     "output_type": "stream",
     "text": [
      "name,roll number,cgpa,result\n",
      "\n",
      "samarth,1,6, pass\n",
      "\n",
      "abishek,2,9,pass\n",
      "\n",
      "gourav,3,8,pass\n",
      "\n",
      "shambu,4,2,fail\n",
      "\n",
      "\n"
     ]
    }
   ],
   "source": [
    "\n",
    "import csv\n",
    "heading=[\"name\", \"roll number\",  \"cgpa\", \"result\"]\n",
    "\n",
    "student_data=[[\"samarth\",   '1', '6', \" pass\"],\n",
    "              [\"abishek\",   '2', '9', \"pass\"],\n",
    "              [\"gourav\",    '3', '8', \"pass\"],\n",
    "              [\"shambu\",    '4', '2', \"fail\"]]\n",
    "with open(\"student.csv\",\"w\") as file:\n",
    "    d1=csv.writer(file)\n",
    "    d1.writerow(heading)\n",
    "    d1.writerows(student_data)\n",
    "\n",
    "\n",
    "with open(\"student.csv\",\"r\") as file:\n",
    "    read=file.read()\n",
    "    print(read)\n",
    "\n"
   ]
  },
  {
   "attachments": {},
   "cell_type": "markdown",
   "metadata": {},
   "source": [
    "count the occurence of a specific charecter in file"
   ]
  },
  {
   "cell_type": "code",
   "execution_count": 126,
   "metadata": {},
   "outputs": [
    {
     "name": "stdout",
     "output_type": "stream",
     "text": [
      "2\n"
     ]
    }
   ],
   "source": [
    "\n",
    "charector='vinayak'\n",
    "with open(\"file1.txt\",\"w\") as store:\n",
    "    pri=store.write(str(charector))\n",
    "    \n",
    "\n",
    "with open(\"file1.txt\",\"r\") as file:\n",
    "    count=0\n",
    "    letter=\"a\"\n",
    "    for i in charector:\n",
    "        if i==letter:\n",
    "            count=count+1\n",
    "            cou=file.read(count)\n",
    "    print(count)\n",
    "        "
   ]
  },
  {
   "cell_type": "code",
   "execution_count": 118,
   "metadata": {},
   "outputs": [
    {
     "name": "stdout",
     "output_type": "stream",
     "text": [
      "a\n"
     ]
    }
   ],
   "source": [
    "list=\"vinayak\"\n",
    "# for i in list:\n",
    "print(list[3])"
   ]
  },
  {
   "cell_type": "code",
   "execution_count": null,
   "metadata": {},
   "outputs": [],
   "source": []
  },
  {
   "cell_type": "code",
   "execution_count": null,
   "metadata": {},
   "outputs": [],
   "source": []
  }
 ],
 "metadata": {
  "kernelspec": {
   "display_name": "Python 3",
   "language": "python",
   "name": "python3"
  },
  "language_info": {
   "codemirror_mode": {
    "name": "ipython",
    "version": 3
   },
   "file_extension": ".py",
   "mimetype": "text/x-python",
   "name": "python",
   "nbconvert_exporter": "python",
   "pygments_lexer": "ipython3",
   "version": "3.11.2"
  },
  "orig_nbformat": 4
 },
 "nbformat": 4,
 "nbformat_minor": 2
}
