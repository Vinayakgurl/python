{
 "cells": [
  {
   "cell_type": "code",
   "execution_count": 5,
   "metadata": {},
   "outputs": [
    {
     "name": "stdout",
     "output_type": "stream",
     "text": [
      "Using_doc_:\n",
      " hi how are yoy\n",
      "    guy\n",
      "        \n",
      "Using help:\n",
      "Help on function my_function in module __main__:\n",
      "\n",
      "my_function()\n",
      "    hi how are yoy\n",
      "    guy\n",
      "\n"
     ]
    }
   ],
   "source": [
    "\n",
    "# using document function we can print tripple quates value \n",
    "def my_function():\n",
    "\n",
    "    ''' DEMONSTRAION  triple double quates \n",
    "        docustring and does nothing really\n",
    "        '''\n",
    "    return None\n",
    "print(\"Using_doc_:\")\n",
    "print(my_function.__doc__)\n",
    "\n",
    "print(\"Using help:\")\n",
    "help(my_function)\n"
   ]
  },
  {
   "cell_type": "code",
   "execution_count": 15,
   "metadata": {},
   "outputs": [
    {
     "name": "stdout",
     "output_type": "stream",
     "text": [
      "None\n",
      "using function defined with def keyword,cube: 125\n",
      "using lamda function ,qube 125\n"
     ]
    }
   ],
   "source": [
    "def cube(y):\n",
    "    lambda_cube\n",
    "    return y*y*y\n",
    "    \n",
    "lambda_cube=lambda y:y*y*y\n",
    "    \n",
    "'''using function defined\n",
    "\n",
    "using def keyword'''\n",
    "\n",
    "print(\"using function defined with def keyword,cube:\",cube(5))\n",
    "\n",
    "print(\"using lamda function ,qube\",lambda_cube(5))"
   ]
  },
  {
   "cell_type": "code",
   "execution_count": null,
   "metadata": {},
   "outputs": [],
   "source": []
  }
 ],
 "metadata": {
  "kernelspec": {
   "display_name": "Python 3",
   "language": "python",
   "name": "python3"
  },
  "language_info": {
   "codemirror_mode": {
    "name": "ipython",
    "version": 3
   },
   "file_extension": ".py",
   "mimetype": "text/x-python",
   "name": "python",
   "nbconvert_exporter": "python",
   "pygments_lexer": "ipython3",
   "version": "3.11.2"
  },
  "orig_nbformat": 4
 },
 "nbformat": 4,
 "nbformat_minor": 2
}
