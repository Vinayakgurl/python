{
 "cells": [
  {
   "cell_type": "code",
   "execution_count": 1,
   "metadata": {},
   "outputs": [
    {
     "name": "stdout",
     "output_type": "stream",
     "text": [
      "1000.0\n"
     ]
    }
   ],
   "source": [
    "def simple_interest(p,t,r):\n",
    "    si= (p * r * t)/100\n",
    "    return si\n",
    "\n",
    "    \n",
    "simple=simple_interest(1000,1,(100))\n",
    "print(simple)\n"
   ]
  },
  {
   "cell_type": "code",
   "execution_count": 11,
   "metadata": {},
   "outputs": [
    {
     "name": "stdout",
     "output_type": "stream",
     "text": [
      "for 2000 ru for 8 years at 10 the simple interest is  1600.0\n"
     ]
    }
   ],
   "source": [
    "def simple_interest(p,t,r):\n",
    "    \n",
    "    ans=calculat(p,t,r)\n",
    "    print(\"for\" ,p,\"ru\", \"for\",t,\"years at\", r, \"the simple interest is \",ans)\n",
    "    \n",
    "def calculat(p,t,r):\n",
    "    si=  (p * r * t)/100\n",
    "    return si\n",
    "    \n",
    "simple=simple_interest(2000,8,10)\n",
    "\n"
   ]
  },
  {
   "cell_type": "code",
   "execution_count": 32,
   "metadata": {},
   "outputs": [
    {
     "name": "stdout",
     "output_type": "stream",
     "text": [
      "compound interest is 6.263278979278084e+172\n"
     ]
    }
   ],
   "source": [
    "def compoun(p,r,n,t):\n",
    "  #  t = p((1+(r/n*100))**(n*t)) when we done mistake in airthmatic operator it gives error liike int object is callable \n",
    "    t = p*((1+(r/n*100))**(n*t))\n",
    "    print(\"compound interest is\", t)\n",
    "       \n",
    "compoun(1000, 3, 12, 10)\n",
    "\n",
    "\n"
   ]
  },
  {
   "cell_type": "code",
   "execution_count": null,
   "metadata": {},
   "outputs": [],
   "source": []
  }
 ],
 "metadata": {
  "kernelspec": {
   "display_name": "Python 3",
   "language": "python",
   "name": "python3"
  },
  "language_info": {
   "codemirror_mode": {
    "name": "ipython",
    "version": 3
   },
   "file_extension": ".py",
   "mimetype": "text/x-python",
   "name": "python",
   "nbconvert_exporter": "python",
   "pygments_lexer": "ipython3",
   "version": "3.11.2"
  },
  "orig_nbformat": 4
 },
 "nbformat": 4,
 "nbformat_minor": 2
}
