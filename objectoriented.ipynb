{
 "cells": [
  {
   "cell_type": "code",
   "execution_count": 12,
   "metadata": {},
   "outputs": [
    {
     "name": "stdout",
     "output_type": "stream",
     "text": [
      "no fuel is avialable\n"
     ]
    }
   ],
   "source": [
    "class Truck:\n",
    "    seat = 2\n",
    "    tyre = 6\n",
    "    fuel = 'diesel'\n",
    "    carier = \"goods\"\n",
    "    fuel_state = True\n",
    "    def drive(vinayak):\n",
    "        if vinayak.fuel_state ==True:\n",
    "            print(\"ready to drive\")\n",
    "        else:\n",
    "            print(\"no fuel is avialable\")\n",
    "    def __init__(self) -> None:\n",
    "        self.seat=5\n",
    "        self.tyre=7\n",
    "        self.fuel_state=False\n",
    "\n",
    "obj=Truck()\n",
    "obj.drive()"
   ]
  },
  {
   "cell_type": "code",
   "execution_count": 22,
   "metadata": {},
   "outputs": [
    {
     "name": "stdout",
     "output_type": "stream",
     "text": [
      "1 2\n",
      "no fuel is avialable\n"
     ]
    }
   ],
   "source": [
    "class Truck:\n",
    "    seat = 2\n",
    "    tyre = 6\n",
    "    fuel = 'diesel'\n",
    "    carier = \"goods\"\n",
    "    fuel_state = True\n",
    "    def drive(self,a,b):\n",
    "        print(a,b)\n",
    "        if self.fuel_state ==True:\n",
    "            print(\"ready to drive\")\n",
    "        else:\n",
    "            print(\"no fuel is avialable\")\n",
    "    def __init__(self) -> None:\n",
    "        self.seat=5\n",
    "        self.tyre=7\n",
    "        self.fuel_state=False\n",
    "\n",
    "obj=Truck()\n",
    "obj.drive(1,2)"
   ]
  },
  {
   "cell_type": "code",
   "execution_count": 23,
   "metadata": {},
   "outputs": [
    {
     "name": "stdout",
     "output_type": "stream",
     "text": [
      "1 2\n",
      "no fuel is avialable\n"
     ]
    }
   ],
   "source": [
    "class Truck:\n",
    "    seat = 2\n",
    "    tyre = 6\n",
    "    fuel = 'diesel'\n",
    "    carier = \"goods\"\n",
    "    fuel_state = True\n",
    "    def drive(self,a,b):\n",
    "        print(a,b)\n",
    "        print(\"convertd value are \",sel)\n",
    "        if self.fuel_state ==True:\n",
    "            print(\"ready to drive\")\n",
    "        else:\n",
    "            print(\"no fuel is avialable\")\n",
    "    def __init__(self,seat,tyre) -> None:\n",
    "        self.seat=seat\n",
    "        self.tyre=tyre\n",
    "        self.fuel_state=False\n",
    "\n",
    "obj=Truck(9,7)\n",
    "obj.drive(1,2)"
   ]
  },
  {
   "cell_type": "code",
   "execution_count": 7,
   "metadata": {},
   "outputs": [
    {
     "name": "stdout",
     "output_type": "stream",
     "text": [
      "studen is pass\n"
     ]
    }
   ],
   "source": [
    "class student:\n",
    "    physics=90\n",
    "    math=85\n",
    "    biology = 76\n",
    "    pass_mark = 150\n",
    "    result=0\n",
    "    def calculate(self):\n",
    "        self.result=(self.physics+self.biology+self.math)\n",
    "    \n",
    "    def marks(self):\n",
    "        if self.result>=self.pass_mark:\n",
    "            print(\"studen is pass\")\n",
    "\n",
    "    def __init__(self) -> None:\n",
    "        pass\n",
    "\n",
    "obj=student()\n",
    "obj.calculate()\n",
    "obj.marks()\n",
    "\n",
    "        "
   ]
  },
  {
   "cell_type": "code",
   "execution_count": 11,
   "metadata": {},
   "outputs": [
    {
     "name": "stdout",
     "output_type": "stream",
     "text": [
      "student is fail\n"
     ]
    }
   ],
   "source": [
    "class student:\n",
    "    physics=90\n",
    "    math=85\n",
    "    biology = 76\n",
    "    pass_mark = 150\n",
    "    result=0\n",
    "    def calculate(self):\n",
    "        self.result=(self.physics+self.biology+self.math)\n",
    "    \n",
    "    def marks(self):\n",
    "        if self.result>=self.pass_mark:\n",
    "            print(\"studen is pass\")\n",
    "\n",
    "        else:\n",
    "            print(\"student is fail\")\n",
    "\n",
    "    def __init__(self) -> None:\n",
    "        self.biology=98\n",
    "        self.math=5\n",
    "        self.physics=5\n",
    "        \n",
    "\n",
    "obj=student()\n",
    "obj.calculate()\n",
    "obj.marks()"
   ]
  },
  {
   "cell_type": "code",
   "execution_count": 16,
   "metadata": {},
   "outputs": [
    {
     "name": "stdout",
     "output_type": "stream",
     "text": [
      "ajay student is fail\n"
     ]
    }
   ],
   "source": [
    "class student:\n",
    "    student_name=\"ajay\"\n",
    "    physics=90\n",
    "    math=85\n",
    "    biology = 76\n",
    "    pass_mark = 150\n",
    "    result=0\n",
    "    def calculate(self):\n",
    "        self.result=(self.physics+self.biology+self.math)\n",
    "    \n",
    "    def marks(self):\n",
    "        if self.result>=self.pass_mark:\n",
    "            print(self.student_name,\"studen is\", \"pass\")\n",
    "\n",
    "        else:\n",
    "            print(self.student_name,\"student is\", \"fail\")\n",
    "\n",
    "    def __init__(self,biology,math,pysics) -> None:\n",
    "        self.biology=biology\n",
    "        self.math=math\n",
    "        self.physics=pysics\n",
    "        \n",
    "\n",
    "obj=student(98,5,6)\n",
    "obj.calculate()\n",
    "obj.marks()"
   ]
  },
  {
   "cell_type": "code",
   "execution_count": 29,
   "metadata": {},
   "outputs": [
    {
     "name": "stdout",
     "output_type": "stream",
     "text": [
      "programming\n"
     ]
    }
   ],
   "source": [
    "class parent():\n",
    "    __c=\"\"\n",
    "    def __init__(self):\n",
    "        self.a=\"python\"\n",
    "        self.__c=\"programming\"\n",
    "    def show(self):\n",
    "        print(self.__c)\n",
    "        \n",
    "class child(parent):\n",
    "        def __init__(self):\n",
    "            parent.__init__(self)\n",
    "            # print(\"__C:\",self.__c)\n",
    "\n",
    "obj1=parent()\n",
    "obj1.show()"
   ]
  },
  {
   "cell_type": "code",
   "execution_count": 39,
   "metadata": {},
   "outputs": [
    {
     "name": "stdout",
     "output_type": "stream",
     "text": [
      "dont worry i am implimented\n"
     ]
    }
   ],
   "source": [
    "class parent():\n",
    "    def abstracrt_function(self):\n",
    "        pass\n",
    "\n",
    "class child(parent):\n",
    "    def abstract_function(self):\n",
    "        print(\"dont worry i am implimented\")\n",
    "\n",
    "obj=child()\n",
    "obj.abstract_function()"
   ]
  },
  {
   "cell_type": "code",
   "execution_count": 21,
   "metadata": {},
   "outputs": [
    {
     "name": "stdout",
     "output_type": "stream",
     "text": [
      "name: vinayak designation: cs engineer sallary: 50000\n",
      "name: vijay designation: mechanical engineer sallary: 35000\n",
      "name: chandrakant designation:  civil engineer sallary: 25000\n",
      "name: shankar designation: electronics engineer sallary: 40000\n",
      "name: sanjay designation: electrical  engineer sallary: 45000\n"
     ]
    }
   ],
   "source": [
    "class cs_engineer:\n",
    "    name=\"\"\n",
    "    designatioin=\"\"\n",
    "    salary=\"\"\n",
    "    def prin(self):\n",
    "        print(\"name:\",self.name, \"designation:\",self.designatioin, \"sallary:\", self.salary)\n",
    "        \n",
    "    def __init__(self,name, designation,salary):\n",
    "        self.name=name \n",
    "        self.designatioin=designation\n",
    "        self.salary=salary\n",
    "\n",
    "\n",
    "class mechanical_engineer:\n",
    "    name=\"\"\n",
    "    designatioin=\"\"\n",
    "    salary=\"\"\n",
    "    def prin(self):\n",
    "      print(\"name:\",self.name, \"designation:\",self.designatioin, \"sallary:\", self.salary)\n",
    "    \n",
    "    def __init__(self,name, designation,salary):\n",
    "        self.name=name \n",
    "        self.designatioin=designation\n",
    "        self.salary=salary\n",
    "\n",
    "    \n",
    "class civil_engineer:\n",
    "    name=\"\"\n",
    "    designatioin=\"\"\n",
    "    salary=\"\"\n",
    "    def prin(self):\n",
    "       print(\"name:\",self.name, \"designation:\",self.designatioin, \"sallary:\", self.salary)\n",
    "\n",
    "    def __init__(self,name, designation,salary):\n",
    "        self.name=name \n",
    "        self.designatioin=designation\n",
    "        self.salary=salary\n",
    "\n",
    "\n",
    "class electronics_engineer:\n",
    "    name=\"\"\n",
    "    designatioin=\"\"\n",
    "    salary=\"\"\n",
    "    def prin(self):\n",
    "        print(\"name:\",self.name, \"designation:\",self.designatioin, \"sallary:\", self.salary)\n",
    "    \n",
    "    def __init__(self,name, designation,salary):\n",
    "        self.name=name \n",
    "        self.designatioin=designation\n",
    "        self.salary=salary\n",
    "\n",
    "\n",
    "class electrical_engineer:\n",
    "    name=\"\"\n",
    "    designatioin=\"\"\n",
    "    salary=\"\"\n",
    "    def prin(self):\n",
    "        print(\"name:\",self.name, \"designation:\",self.designatioin, \"sallary:\", self.salary)\n",
    "\n",
    "\n",
    "\n",
    "    def __init__(self,name, designation,salary):\n",
    "        self.name=name \n",
    "        self.designatioin=designation\n",
    "        self.salary=salary\n",
    "\n",
    "\n",
    "\n",
    "obj=cs_engineer('vinayak','cs engineer',\"50000\")\n",
    "obj.prin()\n",
    "obj=mechanical_engineer('vijay','mechanical engineer',\"35000\")\n",
    "obj.prin()\n",
    "obj=civil_engineer('chandrakant',' civil engineer',\"25000\")\n",
    "obj.prin()\n",
    "obj=electronics_engineer('shankar','electronics engineer',\"40000\")\n",
    "obj.prin()\n",
    "\n",
    "obj=electrical_engineer('sanjay','electrical  engineer',\"45000\")\n",
    "obj.prin()\n",
    "\n",
    "\n",
    "    "
   ]
  },
  {
   "attachments": {},
   "cell_type": "markdown",
   "metadata": {},
   "source": [
    "statastics"
   ]
  },
  {
   "cell_type": "code",
   "execution_count": 22,
   "metadata": {},
   "outputs": [
    {
     "name": "stdout",
     "output_type": "stream",
     "text": [
      "11.833333333333334\n"
     ]
    }
   ],
   "source": [
    "\n",
    "import statistics as st\n",
    "li=[1,2,3,4,5,56]\n",
    "print(st.mean(li))\n"
   ]
  },
  {
   "cell_type": "code",
   "execution_count": 40,
   "metadata": {},
   "outputs": [
    {
     "name": "stdout",
     "output_type": "stream",
     "text": [
      "4\n"
     ]
    }
   ],
   "source": [
    "\n",
    "import statistics as st\n",
    "# li=[1,2,3,4,5,56]\n",
    "# print(st.median(li))# ading midle value divided by 2 when it is even count\n",
    "\n",
    "li1=[1,4,7,4,98]\n",
    "print(st.median(li1))\n"
   ]
  },
  {
   "cell_type": "code",
   "execution_count": 47,
   "metadata": {},
   "outputs": [
    {
     "name": "stdout",
     "output_type": "stream",
     "text": [
      "4\n"
     ]
    }
   ],
   "source": [
    "import statistics as st\n",
    "# li=[1,2,3,4,5,56]\n",
    "# print(st.median(li))# ading midle value divided by 2 when it is even count\n",
    "\n",
    "li1=[1,4,4,7,12,7,4,98,1,1,4]\n",
    "print(st.mode(li1))"
   ]
  },
  {
   "cell_type": "code",
   "execution_count": 1,
   "metadata": {},
   "outputs": [],
   "source": [
    "import csv\n",
    "from tkinter import Tk, Label, Entry, Button\n",
    "\n",
    "def save_employee_data():\n",
    "    name = name_entry.\n",
    "    age = age_entry.get()\n",
    "    department = department_entry.get()\n",
    "\n",
    "    with open('employee_data.csv', mode='a', newline='') as file:\n",
    "        writer = csv.writer(file)\n",
    "        writer.writerow([name, age, department])\n",
    "\n",
    "    name_entry.delete(0, 'end')\n",
    "    age_entry.delete(0, 'end')\n",
    "    department_entry.delete(0, 'end')\n",
    "\n",
    "root = Tk()\n",
    "\n",
    "name_label = Label(root, text=\"Name:\")\n",
    "name_label.pack()\n",
    "name_entry = Entry(root)\n",
    "name_entry.pack()\n",
    "\n",
    "age_label = Label(root, text=\"Age:\")\n",
    "age_label.pack()\n",
    "age_entry = Entry(root)\n",
    "age_entry.pack()\n",
    "\n",
    "department_label = Label(root, text=\"Department:\")\n",
    "department_label.pack()\n",
    "department_entry = Entry(root)\n",
    "department_entry.pack()\n",
    "\n",
    "save_button = Button(root, text=\"Save\", command=save_employee_data)\n",
    "save_button.pack()\n",
    "\n",
    "root.mainloop()"
   ]
  },
  {
   "cell_type": "code",
   "execution_count": 2,
   "metadata": {},
   "outputs": [
    {
     "data": {
      "image/png": "[encoded data removed]",
      "text/plain": [
       "<Figure size 640x480 with 4 Axes>"
      ]
     },
     "metadata": {},
     "output_type": "display_data"
    }
   ],
   "source": [
    "import pandas as pd\n",
    "import matplotlib.pyplot as plt\n",
    "  \n",
    "# create 2D array of table given above\n",
    "data = [['E001', 'M', 34, 123, 'Normal', 350],\n",
    "        ['E002', 'F', 40, 114, 'Overweight', 450],\n",
    "        ['E003', 'F', 37, 135, 'Obesity', 169],\n",
    "        ['E004', 'M', 30, 139, 'Underweight', 189],\n",
    "        ['E005', 'F', 44, 117, 'Underweight', 183],\n",
    "        ['E006', 'M', 36, 121, 'Normal', 80],\n",
    "        ['E007', 'M', 32, 133, 'Obesity', 166],\n",
    "        ['E008', 'F', 26, 140, 'Normal', 120],\n",
    "        ['E009', 'M', 32, 133, 'Normal', 75],\n",
    "        ['E010', 'M', 36, 133, 'Underweight', 40] ]\n",
    "# dataframe created with\n",
    "# the above data array\n",
    "df = pd.DataFrame(data, columns = ['EMPID', 'Gender', 'Age', 'Sales', 'BMI', 'Income'] )\n",
    "  \n",
    "# create histogram for numeric data\n",
    "df.hist()\n",
    "  \n",
    "# show plot\n",
    "plt.show()\n",
    "\n"
   ]
  },
  {
   "cell_type": "code",
   "execution_count": 14,
   "metadata": {},
   "outputs": [
    {
     "name": "stdout",
     "output_type": "stream",
     "text": [
      "no error\n"
     ]
    },
    {
     "data": {
      "image/png": "[encoded data removed]",
      "text/plain": [
       "<Figure size 640x480 with 1 Axes>"
      ]
     },
     "metadata": {},
     "output_type": "display_data"
    }
   ],
   "source": [
    "import pandas as pd\n",
    "import matplotlib as plt\n",
    "\n",
    "def fun():\n",
    "      data=[[\"vimala\",1,\"bsc\",\"40%\"]\n",
    "            ,[\"gorav\",2,\"be\",\"50%\"]\n",
    "            ,[\"shankar\",3,\"diploma\",\"80%\"]\n",
    "            ,[\"aravind\",4,\"puc\",\"70%\"]\n",
    "\n",
    "             ]\n",
    "      df=pd.DataFrame(data,columns=[\"name\",\"roll number\",\"branch\",\"percentage\"])\n",
    "# print(df)\n",
    "      try:\n",
    "            df.hist()\n",
    "            plt.show()\n",
    "\n",
    "      except:\n",
    "            print(\"no error\")\n",
    "\n",
    "fun()\n",
    "\n",
    "\n",
    "      "
   ]
  },
  {
   "cell_type": "code",
   "execution_count": null,
   "metadata": {},
   "outputs": [],
   "source": []
  },
  {
   "cell_type": "code",
   "execution_count": 14,
   "metadata": {},
   "outputs": [
    {
     "data": {
      "image/png": "[encoded data removed]",
      "text/plain": [
       "<Figure size 640x480 with 1 Axes>"
      ]
     },
     "metadata": {},
     "output_type": "display_data"
    }
   ],
   "source": [
    "import pandas as pd\n",
    "import matplotlib.pyplot as plt\n",
    "data = [['vinayak',  34, 123, ],\n",
    "        ['arun',  40, 114, ],\n",
    "        ['varun',  37, 135, ],\n",
    "        ['kiran',  30, 139, ],\n",
    "        ['gourav',  44, 117, ],\n",
    "        ['varsha',  36, 121, ],\n",
    "         ]\n",
    "# dataframe created with\n",
    "df=pd.DataFrame(data,columns=[\"name\",\"aze\",\"roll_number\"])\n",
    "df.plot.bar()\n",
    "plt.bar(df[\"name\"],df[\"aze\"],df[\"roll_number\"])\n",
    "plt.xlabel(\"name\")\n",
    "plt.ylabel(\"roll number\")\n",
    "# plt.xlabel(\"roll number\")\n",
    "# plt.xlabel('aze')\n",
    "plt.show()"
   ]
  }
 ],
 "metadata": {
  "kernelspec": {
   "display_name": "Python 3",
   "language": "python",
   "name": "python3"
  },
  "language_info": {
   "codemirror_mode": {
    "name": "ipython",
    "version": 3
   },
   "file_extension": ".py",
   "mimetype": "text/x-python",
   "name": "python",
   "nbconvert_exporter": "python",
   "pygments_lexer": "ipython3",
   "version": "3.11.2"
  },
  "orig_nbformat": 4
 },
 "nbformat": 4,
 "nbformat_minor": 2
}
