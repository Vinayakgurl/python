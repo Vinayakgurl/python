{
 "cells": [
  {
   "cell_type": "code",
   "execution_count": null,
   "metadata": {},
   "outputs": [],
   "source": [
    "def student_data():\n",
    "    student = []\n",
    "   \n",
    "    for s in (0,2):\n",
    "            print(\"enter the student data\")\n",
    "            student.append(input(\"enter the student name\"))\n",
    "            \n",
    "            student.append(input(\"enter student class\"))\n",
    "        \n",
    "            student.append(input(\"enetr student roll number\"))\n",
    "            \n",
    "            student.append(input('enter the student branch'))\n",
    "\n",
    "    \n",
    "    print(\"student data is \",student,end='\\n')\n",
    "\n",
    "\n",
    "\n",
    "student_data()"
   ]
  }
 ],
 "metadata": {
  "language_info": {
   "name": "python"
  },
  "orig_nbformat": 4
 },
 "nbformat": 4,
 "nbformat_minor": 2
}
