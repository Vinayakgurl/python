{
 "cells": [
  {
   "cell_type": "code",
   "execution_count": 60,
   "metadata": {},
   "outputs": [
    {
     "data": {
      "text/plain": [
       "''"
      ]
     },
     "execution_count": 60,
     "metadata": {},
     "output_type": "execute_result"
    }
   ],
   "source": [
    "\n",
    "file = open(\"vinayak.txt\",\"+a\")\n",
    "   \n",
    "for s in (0,1):\n",
    "            \n",
    "            file.write=str(input(\"enter the student name\"))\n",
    "            \n",
    "            file.write=str(input(\"enter student class\"))\n",
    "        \n",
    "            file.write=int(input(\"enetr student roll number\"))\n",
    "            \n",
    "            file.write=str(input('enter the student branch'))\n",
    "\n",
    "    \n",
    "# print(\"student data is \",file,end='\\n'\n",
    "\n",
    "\n",
    "file.read()"
   ]
  },
  {
   "attachments": {},
   "cell_type": "markdown",
   "metadata": {},
   "source": [
    "1)PRIME NUMBER"
   ]
  },
  {
   "cell_type": "code",
   "execution_count": 1,
   "metadata": {},
   "outputs": [
    {
     "name": "stdout",
     "output_type": "stream",
     "text": [
      "the number is divisible by 1\n",
      "the number is divisible by 5\n",
      "entered number is prime number\n"
     ]
    }
   ],
   "source": [
    "def prime():\n",
    "    num=int(input(\"enter the number\"))\n",
    "    count=0\n",
    "    for i in range (1,num+1):\n",
    "        \n",
    "        if(num%i==0 ):\n",
    "            count=count+1\n",
    "            print(\"the number is divisible by\",i)           \n",
    "\n",
    "      \n",
    "\n",
    "    if( count==2):\n",
    "                print(\"entered number is prime number\")\n",
    "\n",
    "    else:\n",
    "                print(\"entered number is not a prime number\")\n",
    "\n",
    "prime()\n",
    "                "
   ]
  },
  {
   "attachments": {},
   "cell_type": "markdown",
   "metadata": {},
   "source": [
    "2 print prime number between 1to100"
   ]
  },
  {
   "cell_type": "code",
   "execution_count": 14,
   "metadata": {},
   "outputs": [
    {
     "name": "stdout",
     "output_type": "stream",
     "text": [
      "prime numbers  are : 2\n",
      "prime numbers  are : 3\n",
      "prime numbers  are : 5\n",
      "prime numbers  are : 7\n",
      "prime numbers  are : 11\n",
      "prime numbers  are : 13\n",
      "prime numbers  are : 17\n",
      "prime numbers  are : 19\n",
      "prime numbers  are : 23\n",
      "prime numbers  are : 29\n",
      "prime numbers  are : 31\n",
      "prime numbers  are : 37\n",
      "prime numbers  are : 41\n",
      "prime numbers  are : 43\n",
      "prime numbers  are : 47\n",
      "prime numbers  are : 53\n",
      "prime numbers  are : 59\n",
      "prime numbers  are : 61\n",
      "prime numbers  are : 67\n",
      "prime numbers  are : 71\n",
      "prime numbers  are : 73\n",
      "prime numbers  are : 79\n",
      "prime numbers  are : 83\n",
      "prime numbers  are : 89\n",
      "prime numbers  are : 97\n"
     ]
    }
   ],
   "source": [
    "def prime():\n",
    "    \n",
    "    for l in range(1,100):\n",
    "        num=l\n",
    "\n",
    "        count=0\n",
    "        for i in range (1,num+1):\n",
    "        \n",
    "            if(num%i==0 ):\n",
    "             count=count+1\n",
    "                     \n",
    "\n",
    "      \n",
    "\n",
    "        if( count==2):\n",
    "                print(\"prime numbers  are :\",num)\n",
    "\n",
    "        # else:\n",
    "        #         print(\"entered number is not a prime number\")\n",
    "\n",
    "prime()"
   ]
  },
  {
   "attachments": {},
   "cell_type": "markdown",
   "metadata": {},
   "source": [
    "3 factorial numbers "
   ]
  },
  {
   "cell_type": "code",
   "execution_count": 33,
   "metadata": {},
   "outputs": [
    {
     "name": "stdout",
     "output_type": "stream",
     "text": [
      "factorial of a numkber 120\n"
     ]
    }
   ],
   "source": [
    "def factorial():\n",
    "    num=int(input(\"enter a number\"))\n",
    "    fact=1\n",
    "    for i in range(1,num+1):\n",
    "       fact=fact*i\n",
    "    \n",
    "\n",
    "    print(\"factorial of a numkber\",fact)\n",
    "\n",
    "factorial()"
   ]
  },
  {
   "attachments": {},
   "cell_type": "markdown",
   "metadata": {},
   "source": [
    "4) Fibonacci"
   ]
  },
  {
   "cell_type": "code",
   "execution_count": 2,
   "metadata": {},
   "outputs": [
    {
     "name": "stdout",
     "output_type": "stream",
     "text": [
      "fibounicci of a number 8\n"
     ]
    }
   ],
   "source": [
    "def fibounicci():\n",
    "    num=int(input(\"enter the number\"))\n",
    "    n1=0\n",
    "    n2=1\n",
    "    for s in range(0,num+1):\n",
    "            sum=n1+n2\n",
    "            n2=n1\n",
    "            n1=sum\n",
    "\n",
    "    print(\"fibounicci of a number\",sum)\n",
    "\n",
    "            \n",
    "fibounicci()\n",
    "\n",
    "\n"
   ]
  },
  {
   "attachments": {},
   "cell_type": "markdown",
   "metadata": {},
   "source": [
    "5 simple calculator"
   ]
  },
  {
   "cell_type": "code",
   "execution_count": 12,
   "metadata": {},
   "outputs": [
    {
     "name": "stdout",
     "output_type": "stream",
     "text": [
      "addition of two numnber 10.0 and 20.0  : 30.0\n"
     ]
    }
   ],
   "source": [
    "def calculator():\n",
    "    num1=float(input(\"enter a number\"))\n",
    "    num2=float(input(\"enter a number\"))\n",
    "    string = str(input(\"Enter the symbol which u want like addition,substraction,others \"))\n",
    "    match string:\n",
    "\n",
    "        case \"+\" : print(\"addition of two numnber\",num1 ,'and',num2, ' :',num1+num2)\n",
    "        case  \"-\": print(\"substraction two number\",num1 ,'and',num2, ' :',num1-num2)\n",
    "        case \"*\"   : print(\"multiplication of two number\",num1 ,'and',num2, ' :',num1*num2)\n",
    "        case \"/\"  : print(\"divistion of two number\",num1 ,'and',num2, ' :',num1/num2)\n",
    "        case \"%\" : print('modulus of two number',num1 ,'and',num2, ' :',num1%num2)\n",
    "        case \"//\": print(num1//num2)\n",
    "\n",
    "\n",
    "calculator()\n"
   ]
  },
  {
   "attachments": {},
   "cell_type": "markdown",
   "metadata": {},
   "source": [
    "6 DECIMAL TO BINARY"
   ]
  },
  {
   "cell_type": "code",
   "execution_count": 34,
   "metadata": {},
   "outputs": [
    {
     "name": "stdout",
     "output_type": "stream",
     "text": [
      "011000"
     ]
    }
   ],
   "source": [
    "def DecimalToBinary(num):\n",
    "     \n",
    "    if num >= 1:\n",
    "        DecimalToBinary(num // 2)\n",
    "    print(num % 2, end = '')\n",
    " \n",
    "# Driver Code\n",
    "if __name__ == '__main__':\n",
    "     \n",
    "    # decimal value\n",
    "    dec_val = 24\n",
    "     \n",
    "    # Calling function\n",
    "    DecimalToBinary(dec_val)"
   ]
  },
  {
   "cell_type": "code",
   "execution_count": 33,
   "metadata": {},
   "outputs": [
    {
     "name": "stdout",
     "output_type": "stream",
     "text": [
      "0\n",
      "1\n",
      "0\n",
      "0\n",
      "1\n"
     ]
    }
   ],
   "source": [
    "def decbion():\n",
    "    num=int(input(\"enter the value\"))\n",
    "    for i in range(num):\n",
    "        if num!=1:\n",
    "            if num%2==0:\n",
    "             add=str(0)\n",
    "             print(add)\n",
    "            else:\n",
    "                re=str(1)\n",
    "                print(re)\n",
    "\n",
    "            rem=num//2\n",
    "            num=rem\n",
    "\n",
    "        else:\n",
    "           print(1)\n",
    "           break\n",
    "\n",
    "\n",
    "    \n",
    "\n",
    "\n",
    "\n",
    "decbion()\n",
    "\n",
    "\n"
   ]
  },
  {
   "attachments": {},
   "cell_type": "markdown",
   "metadata": {},
   "source": [
    "7 ASCII VALUE OF CHARECTOR"
   ]
  },
  {
   "cell_type": "code",
   "execution_count": 37,
   "metadata": {},
   "outputs": [
    {
     "name": "stdout",
     "output_type": "stream",
     "text": [
      "ascii value n : 110\n"
     ]
    }
   ],
   "source": [
    "cha= input(\"enter the charector\")\n",
    "print(\"ascii value\",cha,\":\",ord(cha))"
   ]
  },
  {
   "attachments": {},
   "cell_type": "markdown",
   "metadata": {},
   "source": [
    "8) add two matrices"
   ]
  },
  {
   "cell_type": "code",
   "execution_count": 58,
   "metadata": {},
   "outputs": [
    {
     "name": "stdout",
     "output_type": "stream",
     "text": [
      "[10, 10, 10]\n",
      "[10, 10, 10]\n",
      "[10, 10, 10]\n"
     ]
    }
   ],
   "source": [
    "X = [[1,2,3],\n",
    "    [4 ,5,6],\n",
    "    [7 ,8,9]]\n",
    " \n",
    "Y = [[9,8,7],\n",
    "    [6,5,4],\n",
    "    [3,2,1]]\n",
    " \n",
    " \n",
    "result = [[0,0,0],\n",
    "        [0,0,0],\n",
    "        [0,0,0]]\n",
    " \n",
    "# iterate through rows\n",
    "for i in range(len(X)):  \n",
    "# iterate through columns\n",
    "    for j in range(len(Y)):\n",
    "        result[i][j] = X[i][j] + Y[i][j]\n",
    " \n",
    "for r in result:\n",
    "    print(r)\n",
    "\n",
    "     \n"
   ]
  },
  {
   "attachments": {},
   "cell_type": "markdown",
   "metadata": {},
   "source": [
    "9 transpose a matrix not done"
   ]
  },
  {
   "attachments": {},
   "cell_type": "markdown",
   "metadata": {},
   "source": [
    "10 multiply by two matrix"
   ]
  },
  {
   "cell_type": "code",
   "execution_count": null,
   "metadata": {},
   "outputs": [],
   "source": [
    "A = [[5, 4, 3],  \n",
    "     [2, 4, 6],  \n",
    "     [4, 7, 9]]    \n",
    "B = [[3, 2, 4],  \n",
    "     [4, 3, 6],  \n",
    "     [2, 7, 5]]   \n",
    "# Define an empty matrix to store multiplication result  \n",
    "multiResult = [[0, 0, 0],    \n",
    "               [0, 0, 0],    \n",
    "               [0, 0, 0]]  \n",
    "# Using nested for loop method on A & B matrix  \n",
    "for m in range(len(A)):    \n",
    "   for n in range(len(B[0])):    \n",
    "          for o in range(len(B)):    \n",
    "               multiResult[m][n] += A[m][o] * B[o][n] # Storing multiplication result in empty matrix  \n",
    "# Printing multiplication result in the output  \n",
    "print(\"The multiplication result of matrix A and B is: \")  \n",
    "for res in multiResult:    \n",
    "   print(res)"
   ]
  },
  {
   "attachments": {},
   "cell_type": "markdown",
   "metadata": {},
   "source": [
    "11 check string is palidrome "
   ]
  },
  {
   "cell_type": "code",
   "execution_count": 55,
   "metadata": {},
   "outputs": [
    {
     "name": "stdout",
     "output_type": "stream",
     "text": [
      "gadag\n",
      "entere string is a palindrome\n"
     ]
    }
   ],
   "source": [
    "string=input(\"enter a string\")\n",
    "name=string[::-1]\n",
    "print(name)\n",
    "if(name==string):\n",
    "    print('entere string is a palindrome')\n",
    "\n",
    "else:\n",
    "    print(\"enter string is not a palindrome\")\n",
    "\n"
   ]
  },
  {
   "attachments": {},
   "cell_type": "markdown",
   "metadata": {},
   "source": [
    "12 pyramid not done "
   ]
  },
  {
   "attachments": {},
   "cell_type": "markdown",
   "metadata": {},
   "source": [
    "13 merging dictionarry"
   ]
  },
  {
   "cell_type": "code",
   "execution_count": 60,
   "metadata": {},
   "outputs": [
    {
     "name": "stdout",
     "output_type": "stream",
     "text": [
      "None\n",
      "{1: 'hi', 2: 'hubi', 6: 'hi', 7: 'bangalore'}\n"
     ]
    }
   ],
   "source": [
    "dic1={1:\"hi\",2:\"hubi\"}\n",
    "dic2={6:\"hi\",7:\"bangalore\",}\n",
    "print(dic1.update(dic2))\n",
    "print(dic1)"
   ]
  },
  {
   "attachments": {},
   "cell_type": "markdown",
   "metadata": {},
   "source": [
    "14 access index of list using for loop"
   ]
  },
  {
   "cell_type": "code",
   "execution_count": 69,
   "metadata": {},
   "outputs": [
    {
     "name": "stdout",
     "output_type": "stream",
     "text": [
      "index of list1 0 : 1\n",
      "index of list1 1 : 2\n",
      "index of list1 2 : 3\n",
      "index of list1 3 : 4\n",
      "index of list1 4 : 5\n",
      "index of list1 5 : 6\n"
     ]
    }
   ],
   "source": [
    "list1=[1,2,3,4,5,6]\n",
    "\n",
    "for i in range(len(list1)):\n",
    "    print('index of list1',i,\":\",list1[i])"
   ]
  },
  {
   "attachments": {},
   "cell_type": "markdown",
   "metadata": {},
   "source": [
    "15 concat two list"
   ]
  },
  {
   "cell_type": "code",
   "execution_count": 72,
   "metadata": {},
   "outputs": [
    {
     "name": "stdout",
     "output_type": "stream",
     "text": [
      "[1, 2, 3, 4, 5, 8, 7, 89, 4, 2]\n"
     ]
    }
   ],
   "source": [
    "list1=[1,2,3,4,5]\n",
    "list2=[8,7,89,4,2]\n",
    "list = list1+list2\n",
    "print(list)"
   ]
  },
  {
   "attachments": {},
   "cell_type": "markdown",
   "metadata": {},
   "source": [
    "16 get the last element of the list"
   ]
  },
  {
   "cell_type": "code",
   "execution_count": 75,
   "metadata": {},
   "outputs": [
    {
     "name": "stdout",
     "output_type": "stream",
     "text": [
      "9\n"
     ]
    }
   ],
   "source": [
    "list=[1,2,3,4,5,6,9]\n",
    "print(list[-1])"
   ]
  },
  {
   "attachments": {},
   "cell_type": "markdown",
   "metadata": {},
   "source": [
    "17 GETTING RANDOME NUMBER"
   ]
  },
  {
   "cell_type": "code",
   "execution_count": 77,
   "metadata": {},
   "outputs": [
    {
     "name": "stdout",
     "output_type": "stream",
     "text": [
      "1\n"
     ]
    }
   ],
   "source": [
    "import random\n",
    "list2 = [1,2,3,4,5,6,7,8]\n",
    "print(random.choice(list2))"
   ]
  },
  {
   "attachments": {},
   "cell_type": "markdown",
   "metadata": {},
   "source": [
    "18 PRINT ODD NUMBER IN LIST"
   ]
  },
  {
   "cell_type": "code",
   "execution_count": 15,
   "metadata": {},
   "outputs": [
    {
     "name": "stdout",
     "output_type": "stream",
     "text": [
      " odd number in list :  1\n",
      " odd number in list :  3\n",
      " odd number in list :  5\n",
      " odd number in list :  7\n",
      " odd number in list :  7\n"
     ]
    }
   ],
   "source": [
    "list = [1,2,3,4,5,6,7,8,4,4,7,54,6]\n",
    "\n",
    "for i in list:\n",
    "    if (i%2!=0):\n",
    "         print(' odd number in list : ' ,i)\n",
    "\n",
    "   \n",
    "\n"
   ]
  },
  {
   "attachments": {},
   "cell_type": "markdown",
   "metadata": {},
   "source": [
    "19 EVEN NUMBER IN A LIST"
   ]
  },
  {
   "cell_type": "code",
   "execution_count": 86,
   "metadata": {},
   "outputs": [
    {
     "name": "stdout",
     "output_type": "stream",
     "text": [
      "enter number is even number :  2\n",
      "enter number is even number :  4\n",
      "enter number is even number :  6\n",
      "enter number is even number :  8\n",
      "enter number is even number :  4\n",
      "enter number is even number :  4\n",
      "enter number is even number :  54\n",
      "enter number is even number :  6\n"
     ]
    }
   ],
   "source": [
    "list = [1,2,3,4,5,6,7,8,4,4,7,54,6]\n",
    "\n",
    "for i in list:\n",
    "    if (i%2==0):\n",
    "         print('enter number is even number : ' ,i)"
   ]
  },
  {
   "attachments": {},
   "cell_type": "markdown",
   "metadata": {},
   "source": [
    "20 SUM OF ARRAY"
   ]
  },
  {
   "cell_type": "code",
   "execution_count": 87,
   "metadata": {},
   "outputs": [
    {
     "name": "stdout",
     "output_type": "stream",
     "text": [
      "141\n"
     ]
    }
   ],
   "source": [
    "list= [1,4,56,73,7]\n",
    "print(sum(list))"
   ]
  },
  {
   "attachments": {},
   "cell_type": "markdown",
   "metadata": {},
   "source": [
    "21 CHECK STRING IS A NUMBER OR NOT"
   ]
  },
  {
   "cell_type": "code",
   "execution_count": 89,
   "metadata": {},
   "outputs": [
    {
     "name": "stdout",
     "output_type": "stream",
     "text": [
      "if vstirng is contain number then it print true:  True\n"
     ]
    }
   ],
   "source": [
    "string=\"746534\"\n",
    "\n",
    "print(\"if stirng is contain number then it print true: \",string.isnumeric())"
   ]
  },
  {
   "attachments": {},
   "cell_type": "markdown",
   "metadata": {},
   "source": [
    "22 CONVERT TWO LIST into DICTIONARRY"
   ]
  },
  {
   "cell_type": "code",
   "execution_count": 56,
   "metadata": {},
   "outputs": [
    {
     "name": "stdout",
     "output_type": "stream",
     "text": [
      "Original key list is : ['a', 'b', 'c']\n",
      "Original value list is : [1, 4, 5]\n",
      "Resultant dictionary is : {'a': 1, 'b': 4, 'c': 5}\n"
     ]
    }
   ],
   "source": [
    " \n",
    " \n",
    "test_keys = [\"a\", \"b\", \"c\"]\n",
    "test_values = [1, 4, 5]\n",
    " \n",
    "\n",
    "print(\"Original key list is : \" + str(test_keys))\n",
    "print(\"Original value list is : \" + str(test_values))\n",
    " \n",
    "\n",
    "res = {}\n",
    "for key in test_keys:\n",
    "    for value in test_values:\n",
    "        res[key] = value\n",
    "        test_values.remove(value)\n",
    "        break\n",
    "       \n",
    "\n",
    "print(\"Resultant dictionary is : \" + str(res))"
   ]
  },
  {
   "attachments": {},
   "cell_type": "markdown",
   "metadata": {},
   "source": [
    "23 REVERSE A NUMBER"
   ]
  },
  {
   "cell_type": "code",
   "execution_count": 114,
   "metadata": {},
   "outputs": [
    {
     "name": "stdout",
     "output_type": "stream",
     "text": [
      "entered number is  6587653214674\n",
      "The reverse number is : 4764123567856\n"
     ]
    }
   ],
   "source": [
    "number = int(input(\"Enter the integer number: \"))  \n",
    "print(\"entered number is \",number)\n",
    "  \n",
    "# Initiate value to null  \n",
    "revs_number = 0  \n",
    "  \n",
    "# reverse the integer number using the while loop  \n",
    "  \n",
    "while (number > 0):  \n",
    "    # Logic  \n",
    "    remainder = number % 10  \n",
    "    revs_number = (revs_number * 10) + remainder  \n",
    "    number = number // 10  \n",
    "  \n",
    "# Display the result  \n",
    "print(\"The reverse number is : {}\".format(revs_number))\n"
   ]
  },
  {
   "attachments": {},
   "cell_type": "markdown",
   "metadata": {},
   "source": [
    "24 COMPUTE A POWER OF A NUMBER"
   ]
  },
  {
   "cell_type": "code",
   "execution_count": 116,
   "metadata": {},
   "outputs": [
    {
     "name": "stdout",
     "output_type": "stream",
     "text": [
      "power of a number is 8.0\n"
     ]
    }
   ],
   "source": [
    "num = float(input(\"eneter a number\"))\n",
    "power=float(input(\"enter a power number\"))\n",
    "print(\"power of a number is\",num**power)"
   ]
  },
  {
   "attachments": {},
   "cell_type": "markdown",
   "metadata": {},
   "source": [
    "25 COUNT A NUMBER OF DIGITS PRESENT IN A NUMBER"
   ]
  },
  {
   "cell_type": "code",
   "execution_count": 16,
   "metadata": {},
   "outputs": [
    {
     "name": "stdout",
     "output_type": "stream",
     "text": [
      "Number of digits: 4\n"
     ]
    }
   ],
   "source": [
    "num = 3452\n",
    "count = 0\n",
    "\n",
    "while num != 0:\n",
    "    \n",
    "    num =num // 10\n",
    "    count += 1\n",
    "\n",
    "print(\"Number of digits: \" + str(count))"
   ]
  },
  {
   "attachments": {},
   "cell_type": "markdown",
   "metadata": {},
   "source": [
    "27 REMOVING DUPLICATE ELMENT FROM THE LIST"
   ]
  },
  {
   "cell_type": "code",
   "execution_count": 6,
   "metadata": {},
   "outputs": [
    {
     "name": "stdout",
     "output_type": "stream",
     "text": [
      "{1, 2, 3, 4, 5, 345}\n"
     ]
    }
   ],
   "source": [
    "list = [1,2,3,4,3,4,5,3,345]\n",
    "list1 = set(list)\n",
    "print(list1)"
   ]
  },
  {
   "attachments": {},
   "cell_type": "markdown",
   "metadata": {},
   "source": [
    "28 find the size of tuple"
   ]
  },
  {
   "cell_type": "code",
   "execution_count": 1,
   "metadata": {},
   "outputs": [
    {
     "name": "stdout",
     "output_type": "stream",
     "text": [
      "6\n"
     ]
    }
   ],
   "source": [
    "tup=(1,2,3,4,5,45)\n",
    "print(len(tup))"
   ]
  },
  {
   "attachments": {},
   "cell_type": "markdown",
   "metadata": {},
   "source": [
    "29 CREATING LIST OF TUPLE FROM GIVEN LIST HAVING NUMBER AND IT IS CUBE IN EACH TUPLE"
   ]
  },
  {
   "cell_type": "code",
   "execution_count": 3,
   "metadata": {},
   "outputs": [
    {
     "name": "stdout",
     "output_type": "stream",
     "text": [
      "list having a number and having its cube is :  [(1, 1), (5, 125), (8, 512), (9, 729)]\n"
     ]
    }
   ],
   "source": [
    "list = [(1,1**3),(5,5**3),(8,8**3),(9,9**3)]\n",
    "print(\"list having a number and having its cube is : \",list)\n"
   ]
  },
  {
   "attachments": {},
   "cell_type": "markdown",
   "metadata": {},
   "source": [
    "30 Delet all element in list"
   ]
  },
  {
   "cell_type": "code",
   "execution_count": 5,
   "metadata": {},
   "outputs": [
    {
     "name": "stdout",
     "output_type": "stream",
     "text": [
      "<class 'list'>\n"
     ]
    }
   ],
   "source": [
    "list = [1,2,3,54,34,2]\n",
    "del list\n",
    "print(list) "
   ]
  },
  {
   "attachments": {},
   "cell_type": "markdown",
   "metadata": {},
   "source": [
    "31 ENETER BASIC SALLARY CALCULATE GROSS SALARY OF AN EMPLOYEE"
   ]
  },
  {
   "cell_type": "code",
   "execution_count": 7,
   "metadata": {},
   "outputs": [
    {
     "name": "stdout",
     "output_type": "stream",
     "text": [
      "basic sallary is  20000 gross salary is : 21200\n"
     ]
    }
   ],
   "source": [
    "basic_salary = 20000\n",
    "other_allowance=200\n",
    "tax=1000\n",
    "gross_sallary= basic_salary+other_allowance+tax\n",
    "print(\"basic sallary is \",basic_salary,\"gross salary is :\",gross_sallary)"
   ]
  },
  {
   "attachments": {},
   "cell_type": "markdown",
   "metadata": {},
   "source": [
    "32 calculate average of numbers in a given list"
   ]
  },
  {
   "cell_type": "code",
   "execution_count": 11,
   "metadata": {},
   "outputs": [
    {
     "name": "stdout",
     "output_type": "stream",
     "text": [
      "avareg of list is : 58\n"
     ]
    }
   ],
   "source": [
    "def avg():\n",
    "    li = [1,2,3,53,312,34,7]\n",
    "    count=0\n",
    "    add=0\n",
    "    for i in li:\n",
    "        add=add+i\n",
    "        count=count+1\n",
    "\n",
    "\n",
    "    avarage = add//count\n",
    "    print(\"avareg of list is :\",avarage)\n",
    "\n",
    "\n",
    "\n",
    "\n",
    "avg()"
   ]
  },
  {
   "attachments": {},
   "cell_type": "markdown",
   "metadata": {},
   "source": [
    "33 check for url in string"
   ]
  },
  {
   "cell_type": "code",
   "execution_count": null,
   "metadata": {},
   "outputs": [],
   "source": [
    "string = \"avbcd https//karresults.nic.in 2023 likuhj\""
   ]
  },
  {
   "cell_type": "markdown",
   "metadata": {},
   "source": []
  },
  {
   "attachments": {},
   "cell_type": "markdown",
   "metadata": {},
   "source": [
    "34 LARGEST NUMBER  AMONG THREE NUMBER"
   ]
  },
  {
   "cell_type": "code",
   "execution_count": 2,
   "metadata": {},
   "outputs": [
    {
     "name": "stdout",
     "output_type": "stream",
     "text": [
      "all number equal\n"
     ]
    }
   ],
   "source": [
    "num1=int(input(\"enter the 1st njumber\"))\n",
    "num2=int(input(\"enter the 1st njumber\"))\n",
    "num3=int(input(\"enter the 1st njumber\"))\n",
    "if num1>num2 and num1>3:\n",
    "    print(\"greatest number is : \" ,num1)\n",
    "\n",
    "elif num2>num1 and num2>num3:\n",
    "    print(\"greatest number is :\",num2)\n",
    "\n",
    "elif num1<num3 and num2<num3:\n",
    "    print(\"greater number is : \",num3)\n",
    "\n",
    "else :\n",
    "    print(\"all numbers equal\")\n",
    "\n",
    "\n"
   ]
  },
  {
   "attachments": {},
   "cell_type": "markdown",
   "metadata": {},
   "source": [
    "35 Find the number divisible by another number"
   ]
  },
  {
   "cell_type": "code",
   "execution_count": 30,
   "metadata": {},
   "outputs": [
    {
     "name": "stdout",
     "output_type": "stream",
     "text": [
      "10 is not divisible by  20\n"
     ]
    }
   ],
   "source": [
    "num1 = int(input(\"enter the number\"))\n",
    "num2 = int(input(\"enetr the the another number\"))\n",
    "if num1%num2==0:\n",
    "    print(num1, \"divisible by\", num2)\n",
    "\n",
    "else:\n",
    "    print(num1,\"is not divisible by \",num2)\n"
   ]
  },
  {
   "attachments": {},
   "cell_type": "markdown",
   "metadata": {},
   "source": [
    "36 factors of number"
   ]
  },
  {
   "cell_type": "code",
   "execution_count": 36,
   "metadata": {},
   "outputs": [
    {
     "name": "stdout",
     "output_type": "stream",
     "text": [
      "factors of  45 : [1, 3, 5, 9, 15, 45]\n"
     ]
    }
   ],
   "source": [
    "fact=int(input(\"enter a number \"))\n",
    "li=[]\n",
    "for i in range(1,fact+1):\n",
    "    if(fact%i==0):\n",
    "        li.append(i)\n",
    "\n",
    "print(\"factors of \",fact,':',li)\n"
   ]
  },
  {
   "attachments": {},
   "cell_type": "markdown",
   "metadata": {},
   "source": [
    "37 display calendor program"
   ]
  }
 ],
 "metadata": {
  "kernelspec": {
   "display_name": "Python 3",
   "language": "python",
   "name": "python3"
  },
  "language_info": {
   "codemirror_mode": {
    "name": "ipython",
    "version": 3
   },
   "file_extension": ".py",
   "mimetype": "text/x-python",
   "name": "python",
   "nbconvert_exporter": "python",
   "pygments_lexer": "ipython3",
   "version": "3.11.2"
  },
  "orig_nbformat": 4
 },
 "nbformat": 4,
 "nbformat_minor": 2
}
