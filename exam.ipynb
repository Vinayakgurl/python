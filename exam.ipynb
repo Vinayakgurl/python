{
 "cells": [
  {
   "attachments": {},
   "cell_type": "markdown",
   "metadata": {},
   "source": [
    "Quation number 1"
   ]
  },
  {
   "cell_type": "code",
   "execution_count": 3,
   "metadata": {},
   "outputs": [
    {
     "name": "stdout",
     "output_type": "stream",
     "text": [
      "enter number is a odd number 7\n"
     ]
    }
   ],
   "source": [
    "num = int (input(\"enter the number\"))\n",
    "if num%2==0:# it will check the condition reminder vaue is exactly equal to zero or not\n",
    "    print(\"enter number is even number\", num)\n",
    "\n",
    "else:\n",
    "    print(\"enter number is a odd number\",num)"
   ]
  },
  {
   "attachments": {},
   "cell_type": "markdown",
   "metadata": {},
   "source": [
    "Quation number 4"
   ]
  },
  {
   "cell_type": "code",
   "execution_count": 25,
   "metadata": {},
   "outputs": [
    {
     "name": "stdout",
     "output_type": "stream",
     "text": [
      "num_2 is a largest number :  8\n"
     ]
    }
   ],
   "source": [
    "num_1=1\n",
    "num_2=8\n",
    "num_3=3\n",
    "if num_1>num_2 and num_1>num_3: #checking the condition num1 is larger among two number\n",
    "    print(\"num_1 is a largest number : \", num_1  )\n",
    "\n",
    "elif num_2>num_1 and num_2>num_3:#checking the condition num2 is larger among two number\n",
    "    print(\"num_2 is a largest number : \", num_2  )\n",
    "\n",
    "else :\n",
    "    print(\"num_3 is a largest number : \", num_3  )"
   ]
  },
  {
   "attachments": {},
   "cell_type": "markdown",
   "metadata": {},
   "source": [
    "Quation number 5"
   ]
  },
  {
   "cell_type": "code",
   "execution_count": 14,
   "metadata": {},
   "outputs": [
    {
     "name": "stdout",
     "output_type": "stream",
     "text": [
      "2\n",
      " number is a prime number :  17\n"
     ]
    }
   ],
   "source": [
    "num = int(input(\"enter the number\"))\n",
    "count=0\n",
    "for i in range(1,num+1):\n",
    "    if num % i==0: # checking thre condition when num is dividing it gives reminder value is zero\n",
    "        count=count+1 \n",
    "if count==2:\n",
    "    print(\" number is a prime number : \", num )\n",
    "\n",
    "else:\n",
    "    print(\"number is not a prime number :\" , num )\n"
   ]
  },
  {
   "attachments": {},
   "cell_type": "markdown",
   "metadata": {},
   "source": [
    "Quation number 6"
   ]
  },
  {
   "cell_type": "code",
   "execution_count": 22,
   "metadata": {},
   "outputs": [
    {
     "name": "stdout",
     "output_type": "stream",
     "text": [
      "odd numbers in a list is :  1\n",
      "odd numbers in a list is :  3\n",
      "odd numbers in a list is :  5\n",
      "odd numbers in a list is :  7\n",
      "odd numbers in a list is :  9\n",
      "odd numbers in a list is :  11\n"
     ]
    }
   ],
   "source": [
    "li1=[]\n",
    "for i in range(10):\n",
    "    #appending the entered value to empty list li1\n",
    "    li1.append(int(input(\"enter the number\")))\n",
    "\n",
    "# fetching each data from li1\n",
    "for j in li1 : \n",
    "\n",
    "    if  j % 2 !=0 : #check the condition reminder not equal to zero\n",
    "        \n",
    "        print(\"odd numbers in a list is : \",j)\n",
    "\n",
    "\n"
   ]
  },
  {
   "attachments": {},
   "cell_type": "markdown",
   "metadata": {},
   "source": [
    "Quation number 3"
   ]
  },
  {
   "cell_type": "code",
   "execution_count": 26,
   "metadata": {},
   "outputs": [
    {
     "name": "stdout",
     "output_type": "stream",
     "text": [
      "simple interest is for  principal : 7500 t :  12 and r : 10 : 9000.0\n"
     ]
    }
   ],
   "source": [
    "principal = 7500 \n",
    "t=12\n",
    "r=10\n",
    "# finding simple interest formula\n",
    "simple_interest = float((principal*t*r)/100)\n",
    "print(\"simple interest is for \",\"principal :\",principal,\"t : \" , t, \"and\", \"r :\",r, \":\",simple_interest)"
   ]
  }
 ],
 "metadata": {
  "kernelspec": {
   "display_name": "Python 3",
   "language": "python",
   "name": "python3"
  },
  "language_info": {
   "codemirror_mode": {
    "name": "ipython",
    "version": 3
   },
   "file_extension": ".py",
   "mimetype": "text/x-python",
   "name": "python",
   "nbconvert_exporter": "python",
   "pygments_lexer": "ipython3",
   "version": "3.11.2"
  },
  "orig_nbformat": 4
 },
 "nbformat": 4,
 "nbformat_minor": 2
}
