{
 "cells": [
  {
   "cell_type": "code",
   "execution_count": 1,
   "metadata": {},
   "outputs": [
    {
     "name": "stdout",
     "output_type": "stream",
     "text": [
      "--------------------------------------------------------------------------\n",
      "   Customer Id Cutomer Name    Company       City Country\n",
      "0            1      Shankar        Tcs      Hubli   India\n",
      "1            2         Ajay   Reliance  Bangalore   India\n",
      "2            3  Chandrakant  Capjemini  Hydarabad   India\n",
      "3            4      Shanjay  Cognigent  Mangalore   India\n",
      "4            5       Chetan      Ather      Udupi   India\n",
      "5            6        Kiran        Ola      Delhi   India\n",
      "--------------------------------------------------------------------------\n",
      "Customer Id             2\n",
      "Cutomer Name         Ajay\n",
      "Company          Reliance\n",
      "City            Bangalore\n",
      "Country             India\n",
      "Name: 1, dtype: object\n"
     ]
    }
   ],
   "source": [
    "import numpy as np\n",
    "import pandas as pd\n",
    "data={\"Customer Id\" : [1,2,3,4,5,6],\n",
    "      \"Cutomer Name\":[\"Shankar\",\"Ajay\",\"Chandrakant\",\"Shanjay\",\"Chetan\",\"Kiran\"],\n",
    "      \"Company\":[\"Tcs\",\"Reliance\",\"Capjemini\",\"Cognigent\",\"Ather\",\"Ola\"]\n",
    "      ,\"City\":[\"Hubli\",\"Bangalore\",\"Hydarabad\",\"Mangalore\",\"Udupi\",\"Delhi\"],\n",
    "      \"Country\":[\"India\",\"India\",\"India\",\"India\",\"India\",\"India\"]}\n",
    "df=pd.DataFrame(data)\n",
    "print(\"--------------------------------------------------------------------------\")\n",
    "print(df)\n",
    "print(\"--------------------------------------------------------------------------\")\n",
    "print(df.loc[1])"
   ]
  }
 ],
 "metadata": {
  "kernelspec": {
   "display_name": "base",
   "language": "python",
   "name": "python3"
  },
  "language_info": {
   "codemirror_mode": {
    "name": "ipython",
    "version": 3
   },
   "file_extension": ".py",
   "mimetype": "text/x-python",
   "name": "python",
   "nbconvert_exporter": "python",
   "pygments_lexer": "ipython3",
   "version": "3.9.13"
  },
  "orig_nbformat": 4
 },
 "nbformat": 4,
 "nbformat_minor": 2
}
