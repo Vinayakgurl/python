{
 "cells": [
  {
   "cell_type": "code",
   "execution_count": 9,
   "metadata": {},
   "outputs": [
    {
     "name": "stdout",
     "output_type": "stream",
     "text": [
      "\n",
      "emial id:vinay@gmail.com\n",
      "\n"
     ]
    }
   ],
   "source": [
    "# with open(\"file1.txt\",\"w\") as file_handler:\n",
    "ad={\"name\":\"vinayak\", \"rool number\":\"123\",\"emial id\":\"vinay@gmail.com\"}\n",
    "with open(\"file1.txt\",\"w\") as file_handler:\n",
    "\n",
    "    for i,j in ad.items():   \n",
    "        sum=file_handler.write(\"%s:%s\\n\" %(i,j))\n",
    "        # print(sum)\n",
    "\n",
    "\n",
    "with open(\"file1.txt\",\"r\") as file_handler:\n",
    "    ab=file_handler.seek(30)\n",
    "    lm=file_handler.read(ab)\n",
    "    print(lm)"
   ]
  },
  {
   "cell_type": "code",
   "execution_count": null,
   "metadata": {},
   "outputs": [],
   "source": [
    "list=[\"vinay\",\"samarth\",\"chandrakant\"]\n",
    "list1=[1,2,3]\n",
    "empty={}\n",
    "for i in list:\n",
    "    for j in list1:\n",
    "        empty[i]=j\n",
    "    \n",
    "        list1.remove(j)\n",
    "        break\n",
    "\n",
    "\n",
    "        \n",
    "        \n",
    "print(empty)"
   ]
  },
  {
   "attachments": {},
   "cell_type": "markdown",
   "metadata": {},
   "source": [
    "intersection  of two list"
   ]
  },
  {
   "cell_type": "code",
   "execution_count": null,
   "metadata": {},
   "outputs": [],
   "source": [
    "list=[1,45,6,34,23,1]\n",
    "list1=[1,2,3]\n",
    "set1=set(list)\n",
    "set2=set(list1)\n",
    "set3=set1.intersection(set2)\n",
    "print(set3)"
   ]
  },
  {
   "attachments": {},
   "cell_type": "markdown",
   "metadata": {},
   "source": [
    "access and printing the student data"
   ]
  },
  {
   "cell_type": "code",
   "execution_count": null,
   "metadata": {},
   "outputs": [],
   "source": [
    "import csv\n",
    "heading=[\"name\", \"roll number\",  \"cgpa\", \"result\"]\n",
    "\n",
    "student_data=[[\"samarth\",   '1', '6', \" pass\"],\n",
    "              [\"abishek\",   '2', '9', \"pass\"],\n",
    "              [\"gourav\",    '3', '8', \"pass\"],\n",
    "              [\"shambu\",    '4', '2', \"fail\"]]\n",
    "with open(\"student.csv\",\"w\") as file:\n",
    "    d1=csv.writer(file)\n",
    "    d1.writerow(heading)\n",
    "    d1.writerows(student_data)\n",
    "\n",
    "\n",
    "with open(\"student.csv\",\"r\") as file:\n",
    "    read=file.read()\n",
    "    print(read)"
   ]
  },
  {
   "attachments": {},
   "cell_type": "markdown",
   "metadata": {},
   "source": [
    "counting the special charfector in file"
   ]
  },
  {
   "cell_type": "code",
   "execution_count": 3,
   "metadata": {},
   "outputs": [
    {
     "name": "stdout",
     "output_type": "stream",
     "text": [
      "occurence of ( a )specific charector in  file : 2\n"
     ]
    }
   ],
   "source": [
    "charector='vinayak'\n",
    "with open(\"file1.txt\",\"w\") as store:\n",
    "    pri=store.write(str(charector))\n",
    "    \n",
    "\n",
    "with open(\"file1.txt\",\"r\") as file:\n",
    "    count=0\n",
    "    letter=\"a\"\n",
    "    for i in charector:\n",
    "        if i==letter:\n",
    "            count=count+1\n",
    "            cou=file.read(count)\n",
    "    print(\"occurence of (\",letter,\")specific charector in  file :\",count)\n",
    "        "
   ]
  }
 ],
 "metadata": {
  "kernelspec": {
   "display_name": "Python 3",
   "language": "python",
   "name": "python3"
  },
  "language_info": {
   "codemirror_mode": {
    "name": "ipython",
    "version": 3
   },
   "file_extension": ".py",
   "mimetype": "text/x-python",
   "name": "python",
   "nbconvert_exporter": "python",
   "pygments_lexer": "ipython3",
   "version": "3.11.2"
  },
  "orig_nbformat": 4
 },
 "nbformat": 4,
 "nbformat_minor": 2
}
