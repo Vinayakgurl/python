{
 "cells": [
  {
   "cell_type": "code",
   "execution_count": 7,
   "metadata": {},
   "outputs": [
    {
     "ename": "TclError",
     "evalue": "unknown option \"-padx\"",
     "output_type": "error",
     "traceback": [
      "\u001b[1;31m---------------------------------------------------------------------------\u001b[0m",
      "\u001b[1;31mTclError\u001b[0m                                  Traceback (most recent call last)",
      "Cell \u001b[1;32mIn[7], line 30\u001b[0m\n\u001b[0;32m     27\u001b[0m month\u001b[39m.\u001b[39mset(\u001b[39m0\u001b[39m)\n\u001b[0;32m     28\u001b[0m emi\u001b[39m.\u001b[39mset(\u001b[39m0\u001b[39m)\n\u001b[1;32m---> 30\u001b[0m Tk\u001b[39m.\u001b[39;49mEntry(main_window,text\u001b[39m=\u001b[39;49m principal, padx\u001b[39m=\u001b[39;49m\u001b[39m10\u001b[39;49m,pady\u001b[39m=\u001b[39;49m\u001b[39m10\u001b[39;49m)\u001b[39m.\u001b[39mgrid(row\u001b[39m=\u001b[39m\u001b[39m0\u001b[39m,colum\u001b[39m=\u001b[39m\u001b[39m1\u001b[39m)\n\u001b[0;32m     31\u001b[0m Tk\u001b[39m.\u001b[39mEntry(main_window,text\u001b[39m=\u001b[39m rate, padx\u001b[39m=\u001b[39m\u001b[39m10\u001b[39m,pady\u001b[39m=\u001b[39m\u001b[39m10\u001b[39m)\u001b[39m.\u001b[39mgrid(row\u001b[39m=\u001b[39m\u001b[39m1\u001b[39m,colum\u001b[39m=\u001b[39m\u001b[39m1\u001b[39m)\n\u001b[0;32m     32\u001b[0m Tk\u001b[39m.\u001b[39mEntry(main_window,text\u001b[39m=\u001b[39m month, padx\u001b[39m=\u001b[39m\u001b[39m10\u001b[39m,pady\u001b[39m=\u001b[39m\u001b[39m10\u001b[39m)\u001b[39m.\u001b[39mgrid(row\u001b[39m=\u001b[39m\u001b[39m2\u001b[39m,colum\u001b[39m=\u001b[39m\u001b[39m1\u001b[39m)\n",
      "File \u001b[1;32mc:\\Users\\User\\AppData\\Local\\Programs\\Python\\Python311\\Lib\\tkinter\\__init__.py:3101\u001b[0m, in \u001b[0;36mEntry.__init__\u001b[1;34m(self, master, cnf, **kw)\u001b[0m\n\u001b[0;32m   3090\u001b[0m \u001b[39mdef\u001b[39;00m \u001b[39m__init__\u001b[39m(\u001b[39mself\u001b[39m, master\u001b[39m=\u001b[39m\u001b[39mNone\u001b[39;00m, cnf\u001b[39m=\u001b[39m{}, \u001b[39m*\u001b[39m\u001b[39m*\u001b[39mkw):\n\u001b[0;32m   3091\u001b[0m \u001b[39m    \u001b[39m\u001b[39m\"\"\"Construct an entry widget with the parent MASTER.\u001b[39;00m\n\u001b[0;32m   3092\u001b[0m \n\u001b[0;32m   3093\u001b[0m \u001b[39m    Valid resource names: background, bd, bg, borderwidth, cursor,\u001b[39;00m\n\u001b[1;32m   (...)\u001b[0m\n\u001b[0;32m   3099\u001b[0m \u001b[39m    textvariable, validate, validatecommand, vcmd, width,\u001b[39;00m\n\u001b[0;32m   3100\u001b[0m \u001b[39m    xscrollcommand.\"\"\"\u001b[39;00m\n\u001b[1;32m-> 3101\u001b[0m     Widget\u001b[39m.\u001b[39;49m\u001b[39m__init__\u001b[39;49m(\u001b[39mself\u001b[39;49m, master, \u001b[39m'\u001b[39;49m\u001b[39mentry\u001b[39;49m\u001b[39m'\u001b[39;49m, cnf, kw)\n",
      "File \u001b[1;32mc:\\Users\\User\\AppData\\Local\\Programs\\Python\\Python311\\Lib\\tkinter\\__init__.py:2628\u001b[0m, in \u001b[0;36mBaseWidget.__init__\u001b[1;34m(self, master, widgetName, cnf, kw, extra)\u001b[0m\n\u001b[0;32m   2626\u001b[0m \u001b[39mfor\u001b[39;00m k, v \u001b[39min\u001b[39;00m classes:\n\u001b[0;32m   2627\u001b[0m     \u001b[39mdel\u001b[39;00m cnf[k]\n\u001b[1;32m-> 2628\u001b[0m \u001b[39mself\u001b[39;49m\u001b[39m.\u001b[39;49mtk\u001b[39m.\u001b[39;49mcall(\n\u001b[0;32m   2629\u001b[0m     (widgetName, \u001b[39mself\u001b[39;49m\u001b[39m.\u001b[39;49m_w) \u001b[39m+\u001b[39;49m extra \u001b[39m+\u001b[39;49m \u001b[39mself\u001b[39;49m\u001b[39m.\u001b[39;49m_options(cnf))\n\u001b[0;32m   2630\u001b[0m \u001b[39mfor\u001b[39;00m k, v \u001b[39min\u001b[39;00m classes:\n\u001b[0;32m   2631\u001b[0m     k\u001b[39m.\u001b[39mconfigure(\u001b[39mself\u001b[39m, v)\n",
      "\u001b[1;31mTclError\u001b[0m: unknown option \"-padx\""
     ]
    }
   ],
   "source": [
    "import tkinter as Tk\n",
    "def calculate():\n",
    "    prin = int(principal.get())\n",
    "    rate=str(rate.get())\n",
    "    month=str(month.get())\n",
    "    EMI=prin*rate*(pow((1+rate),month)/(pow((1+rate),month)-1))\n",
    "    total_payment=EMI*month\n",
    "    total_interest_value=total_payment-prin\n",
    "\n",
    "    \n",
    "main_window = Tk.Tk()\n",
    "main_window.title(\"EMI Calculator\")\n",
    "main_window.geometry(\"\")\n",
    "Tk.Label(main_window,text=\"Mobile Name\")\n",
    "Tk.Label(main_window,text=\"Amount\",padx=10,pady=10).grid(row=0)\n",
    "Tk.Label(main_window,text=\"Interest\",padx=10,pady=10).grid(row=1)\n",
    "Tk.Label(main_window,text=\"Duration\",padx=10,pady=10).grid(row=2)\n",
    "Tk.Button(main_window,text=\"Calculate\",command=calculate,padx=10,pady=10).grid(row=3,columnspan=2)\n",
    "\n",
    "principal = Tk.IntVar(main_window)\n",
    "rate = Tk.StringVar(main_window)\n",
    "month=Tk.StringVar(main_window)\n",
    "emi=Tk.StringVar(main_window)\n",
    "Tottal_Interest= Tk.StringVar(main_window)\n",
    "Tottal_payment=Tk.StringVar(main_window)\n",
    "principal.set(0)\n",
    "month.set(0)\n",
    "emi.set(0)\n",
    "\n",
    "Tk.Entry(main_window,text= principal, padx=10,pady=10).grid(row=0,colum=1)\n",
    "Tk.Entry(main_window,text= rate, padx=10,pady=10).grid(row=1,colum=1)\n",
    "Tk.Entry(main_window,text= month, padx=10,pady=10).grid(row=2,colum=1)\n",
    "Tk.Label(main_window,text=\"EMI\",padx=10,pady=10).grid(row=4,columnspan=2)\n",
    "Tk.Label(main_window,text=\"emi\", font=(\"Arial\",16),padx=10,pady=10).grid(row=4,columnspan=2)\n",
    "Tk.Label(main_window,text=\"Tottal_Interest\",padx=10,pady=10).grid(row=5,columnspan=2)\n",
    "Tk.Label(main_window,text=\"tottal_interest\",font=(\"Arial\",16),padx=10,pady=10).grid(row=5,columnspan=2)\n",
    "Tk.Label(main_window,text=\"Tottal_Payment\",padx=10,pady=10).grid(row=6,columnspan=2)\n",
    "Tk.Label(main_window,text=\"tottal payment\",font=(\"Arial\",16),padx=10,pady=10).grid(row=5,columnspan=2)\n",
    "main_window.mainloop()\n",
    "\n"
   ]
  },
  {
   "cell_type": "code",
   "execution_count": null,
   "metadata": {},
   "outputs": [],
   "source": []
  }
 ],
 "metadata": {
  "kernelspec": {
   "display_name": "Python 3",
   "language": "python",
   "name": "python3"
  },
  "language_info": {
   "codemirror_mode": {
    "name": "ipython",
    "version": 3
   },
   "file_extension": ".py",
   "mimetype": "text/x-python",
   "name": "python",
   "nbconvert_exporter": "python",
   "pygments_lexer": "ipython3",
   "version": "3.11.2"
  },
  "orig_nbformat": 4
 },
 "nbformat": 4,
 "nbformat_minor": 2
}
