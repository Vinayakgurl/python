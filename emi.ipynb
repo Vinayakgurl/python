{
 "cells": [
  {
   "cell_type": "code",
   "execution_count": null,
   "metadata": {},
   "outputs": [
    {
     "ename": "",
     "evalue": "",
     "output_type": "error",
     "traceback": [
      "\u001b[1;31mJupyter cannot be started. Error attempting to locate Jupyter: Running cells with 'c:\\Users\\User\\AppData\\Local\\Programs\\Python\\Python311\\python.exe' requires the jupyter and notebook package.\n",
      "\u001b[1;31mRun the following command to install 'jupyter and notebook' into the Python environment. \n",
      "\u001b[1;31mCommand: 'python -m pip install jupyter notebook -U\n",
      "\u001b[1;31mor\n",
      "\u001b[1;31mconda install jupyter notebook -U'\n",
      "\u001b[1;31mClick <a href='https://aka.ms/installJupyterForVSCode'>here</a> for more info."
     ]
    }
   ],
   "source": [
    "def emi():\n",
    "    mobile = input(\"enter which mobile you want\")\n",
    "\n",
    "    match  mobile :\n",
    "\n",
    "        case \"samsung\" : \n",
    "                \n",
    "             print(\"samsung mobile rate is 20000\")\n",
    "             calculate(20000)\n",
    "             \n",
    "        case \"vivo\" :\n",
    "             print(\"vivo mobile rate is 15000\")\n",
    "             calculate(15000)\n",
    "        case \"redmy\" : \n",
    "    \n",
    "            print(\"redmy mobile rate is 10000\")\n",
    "            calculate(10000)\n",
    "\n",
    "\n",
    "\n",
    "def calculate(principal_amount):\n",
    "\n",
    "    rate_of_interest = float(input(\"enter the rate of interest\"))/12/100\n",
    "    tenure_in_month = float(input(\"enter the tenure in month\"))\n",
    "    EMI =( principal_amount*rate_of_interest*pow(1+rate_of_interest,tenure_in_month ))/(pow(1+rate_of_interest,tenure_in_month)-1)\n",
    "    print(EMI)\n",
    "\n",
    "\n",
    "            \n",
    "emi()\n",
    "\n",
    "\n",
    "from tkinter import *  \n",
    "top = Tk()  \n",
    "top.geometry(\"400x250\")  \n",
    "name = Label(top, text = \"Principal Amount\").place(x = 30,y = 50)  \n",
    "email = Label(top, text = \"Interest\").place(x = 30, y = 90)  \n",
    "password = Label(top, text = \"Tenure in month\").place(x = 30, y = 130)  \n",
    "e1 = Entry(top).place(x = 80, y = 50)  \n",
    "e2 = Entry(top).place(x = 80, y = 90)  \n",
    "e3 = Entry(top).place(x = 95, y = 130)\n",
    "submit = Button(parent, text = \"emi\").grid(row = 4, column = 0)   \n",
    "top.mainloop() "
   ]
  },
  {
   "cell_type": "code",
   "execution_count": null,
   "metadata": {},
   "outputs": [],
   "source": []
  },
  {
   "attachments": {},
   "cell_type": "markdown",
   "metadata": {},
   "source": [
    "E=P×r×(1+r)n((1+r)n–1) \n"
   ]
  },
  {
   "cell_type": "code",
   "execution_count": null,
   "metadata": {},
   "outputs": [],
   "source": []
  }
 ],
 "metadata": {
  "kernelspec": {
   "display_name": "Python 3",
   "language": "python",
   "name": "python3"
  },
  "language_info": {
   "name": "python",
   "version": "3.9.13"
  },
  "orig_nbformat": 4
 },
 "nbformat": 4,
 "nbformat_minor": 2
}
